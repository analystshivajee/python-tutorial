{
  "nbformat": 4,
  "nbformat_minor": 0,
  "metadata": {
    "colab": {
      "provenance": [],
      "authorship_tag": "ABX9TyNsPjEXc2VsSF9F/Ou4kTE+",
      "include_colab_link": true
    },
    "kernelspec": {
      "name": "python3",
      "display_name": "Python 3"
    },
    "language_info": {
      "name": "python"
    }
  },
  "cells": [
    {
      "cell_type": "markdown",
      "metadata": {
        "id": "view-in-github",
        "colab_type": "text"
      },
      "source": [
        "<a href=\"https://colab.research.google.com/github/analystshivajee/python-tutorial/blob/main/set_password.ipynb\" target=\"_parent\"><img src=\"https://colab.research.google.com/assets/colab-badge.svg\" alt=\"Open In Colab\"/></a>"
      ]
    },
    {
      "cell_type": "code",
      "execution_count": null,
      "metadata": {
        "id": "1zqClRks54uK"
      },
      "outputs": [],
      "source": []
    },
    {
      "cell_type": "code",
      "source": [
        "op=\"12345\"\n",
        "sop=input(\"Enter your current password: \")\n",
        "a=input(\"Enter your password: \")\n",
        "b=input(\"Re-enter your password: \")\n",
        "s=False\n",
        "i=1\n",
        "while i<=4 and s==False:\n",
        "  if sop==op and a==b:\n",
        "    print(\"\\nYour password is set successfully\")\n",
        "    break\n",
        "    s==True\n",
        "  else:\n",
        "    s=False\n",
        "    i=i+1\n",
        "    if i==4:\n",
        "      print(\"\\nMaximum limit reached.\")\n",
        "      cap=\"@aA98\"\n",
        "      print(\"\\nCaptch: @aA98\")\n",
        "      val=input(\"\\nEnter the captcha: \")\n",
        "      if val==cap:\n",
        "        i=1\n",
        "        continue\n",
        "      else:\n",
        "        print(\"Captcha not matched.\\nOver and out.\")\n",
        "        break\n",
        "    if sop!=op:\n",
        "      print(\"\\nIncorrect Password!\")\n",
        "      sop=input(\"\\nEnter your current password: \")\n",
        "      a=input(\"Enter your password: \")\n",
        "      b=input(\"Re-enter your password: \")\n",
        "    elif a!=b:\n",
        "      print(\"\\nPassword not matched!\")\n",
        "      a=input(\"\\nEnter your password: \")\n",
        "      b=input(\"Re-enter your password: \")"
      ],
      "metadata": {
        "id": "OgDLASwBnHfD"
      },
      "execution_count": null,
      "outputs": []
    }
  ]
}