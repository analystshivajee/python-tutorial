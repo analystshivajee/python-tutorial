{
  "nbformat": 4,
  "nbformat_minor": 0,
  "metadata": {
    "colab": {
      "provenance": [],
      "authorship_tag": "ABX9TyMd3gMDYD/cmPe//giz2p4N",
      "include_colab_link": true
    },
    "kernelspec": {
      "name": "python3",
      "display_name": "Python 3"
    },
    "language_info": {
      "name": "python"
    }
  },
  "cells": [
    {
      "cell_type": "markdown",
      "metadata": {
        "id": "view-in-github",
        "colab_type": "text"
      },
      "source": [
        "<a href=\"https://colab.research.google.com/github/analystshivajee/python-tutorial/blob/main/For_loop.ipynb\" target=\"_parent\"><img src=\"https://colab.research.google.com/assets/colab-badge.svg\" alt=\"Open In Colab\"/></a>"
      ]
    },
    {
      "cell_type": "code",
      "execution_count": null,
      "metadata": {
        "colab": {
          "base_uri": "https://localhost:8080/"
        },
        "id": "FXno_hEoLGam",
        "outputId": "a3e4f75d-5863-479c-819e-e2538157c471"
      },
      "outputs": [
        {
          "output_type": "stream",
          "name": "stdout",
          "text": [
            "T\n",
            "h\n",
            "i\n",
            "r\n",
            "u\n",
            "v\n",
            "a\n",
            "n\n",
            "a\n",
            "n\n",
            "t\n",
            "a\n",
            "m\n",
            "p\n",
            "u\n",
            "r\n",
            "a\n",
            "m\n"
          ]
        }
      ],
      "source": [
        "for i in \"Thiruvanantampuram\":\n",
        "  print(i)"
      ]
    },
    {
      "cell_type": "code",
      "source": [
        "for i in [12,23,34,45,56,67,89]:\n",
        "  print(i)"
      ],
      "metadata": {
        "colab": {
          "base_uri": "https://localhost:8080/"
        },
        "id": "yD2t_nIGLpTI",
        "outputId": "a06853ff-a556-4014-8658-b21bcc2cb540"
      },
      "execution_count": null,
      "outputs": [
        {
          "output_type": "stream",
          "name": "stdout",
          "text": [
            "12\n",
            "23\n",
            "34\n",
            "45\n",
            "56\n",
            "67\n",
            "89\n"
          ]
        }
      ]
    },
    {
      "cell_type": "code",
      "source": [
        "for i in (12,23,34,45,56,67,89):\n",
        "  print(i)"
      ],
      "metadata": {
        "colab": {
          "base_uri": "https://localhost:8080/"
        },
        "id": "cOff4sM4MAWX",
        "outputId": "45b6cc3e-d059-43f6-82a0-dc564b1d0aed"
      },
      "execution_count": null,
      "outputs": [
        {
          "output_type": "stream",
          "name": "stdout",
          "text": [
            "12\n",
            "23\n",
            "34\n",
            "45\n",
            "56\n",
            "67\n",
            "89\n"
          ]
        }
      ]
    },
    {
      "cell_type": "code",
      "source": [
        "for i in {12,23,34,45,56,67,89}:\n",
        "  print(i)"
      ],
      "metadata": {
        "colab": {
          "base_uri": "https://localhost:8080/"
        },
        "id": "7PCmbXaZMOtK",
        "outputId": "23754086-791d-4273-c6a2-ff5661d50a7a"
      },
      "execution_count": null,
      "outputs": [
        {
          "output_type": "stream",
          "name": "stdout",
          "text": [
            "34\n",
            "67\n",
            "12\n",
            "45\n",
            "23\n",
            "56\n",
            "89\n"
          ]
        }
      ]
    },
    {
      "cell_type": "code",
      "source": [
        "for i in {1:1,2:4,3:9,4:16}:\n",
        "  print(i)"
      ],
      "metadata": {
        "colab": {
          "base_uri": "https://localhost:8080/"
        },
        "id": "eEasepUWMgmE",
        "outputId": "6513fd10-d344-4e69-9950-208f4052c736"
      },
      "execution_count": null,
      "outputs": [
        {
          "output_type": "stream",
          "name": "stdout",
          "text": [
            "1\n",
            "2\n",
            "3\n",
            "4\n"
          ]
        }
      ]
    },
    {
      "cell_type": "code",
      "source": [
        "for i in range(10):\n",
        "  print(i, end=\" \")"
      ],
      "metadata": {
        "id": "vXN4BrmvM1k0",
        "colab": {
          "base_uri": "https://localhost:8080/"
        },
        "outputId": "cc75c29a-7381-42a1-d8ac-e9539139c583"
      },
      "execution_count": null,
      "outputs": [
        {
          "output_type": "stream",
          "name": "stdout",
          "text": [
            "0 1 2 3 4 5 6 7 8 9 "
          ]
        }
      ]
    },
    {
      "cell_type": "code",
      "source": [
        "for i in range(1, 11):\n",
        "  print(i, end=\" \")"
      ],
      "metadata": {
        "colab": {
          "base_uri": "https://localhost:8080/"
        },
        "id": "pgLJ9NSLkA_X",
        "outputId": "120fa601-d30c-4a2d-b50e-971f2a5861d8"
      },
      "execution_count": null,
      "outputs": [
        {
          "output_type": "stream",
          "name": "stdout",
          "text": [
            "1 2 3 4 5 6 7 8 9 10 "
          ]
        }
      ]
    },
    {
      "cell_type": "code",
      "source": [
        "for i in range(1, 100, 4):\n",
        "  print(i, end=\" \")"
      ],
      "metadata": {
        "colab": {
          "base_uri": "https://localhost:8080/"
        },
        "id": "eYMUnj1KkPZS",
        "outputId": "4b1fb1f3-12b7-4a39-816e-ce0250e870ed"
      },
      "execution_count": null,
      "outputs": [
        {
          "output_type": "stream",
          "name": "stdout",
          "text": [
            "1 5 9 13 17 21 25 29 33 37 41 45 49 53 57 61 65 69 73 77 81 85 89 93 97 "
          ]
        }
      ]
    },
    {
      "cell_type": "code",
      "source": [
        "for i in range(10):\n",
        "  print(\"Shivajee\")"
      ],
      "metadata": {
        "colab": {
          "base_uri": "https://localhost:8080/"
        },
        "id": "dnW2KvMwkU3t",
        "outputId": "0749dd7e-c141-4b2f-aca7-4fc1144b9e91"
      },
      "execution_count": null,
      "outputs": [
        {
          "output_type": "stream",
          "name": "stdout",
          "text": [
            "Shivajee\n",
            "Shivajee\n",
            "Shivajee\n",
            "Shivajee\n",
            "Shivajee\n",
            "Shivajee\n",
            "Shivajee\n",
            "Shivajee\n",
            "Shivajee\n",
            "Shivajee\n"
          ]
        }
      ]
    },
    {
      "cell_type": "code",
      "source": [
        "for i in range(1,11):\n",
        "  print(i, end=\" \")"
      ],
      "metadata": {
        "colab": {
          "base_uri": "https://localhost:8080/"
        },
        "id": "VvVtPa-XlEWS",
        "outputId": "aaaf2ed1-b131-4886-b7e4-e4e148b61f31"
      },
      "execution_count": null,
      "outputs": [
        {
          "output_type": "stream",
          "name": "stdout",
          "text": [
            "1 2 3 4 5 6 7 8 9 10 "
          ]
        }
      ]
    },
    {
      "cell_type": "code",
      "source": [
        "for i in range(2, 100, 2):\n",
        "  print(i, end=\" \")"
      ],
      "metadata": {
        "colab": {
          "base_uri": "https://localhost:8080/"
        },
        "id": "uWgbAALklnr_",
        "outputId": "d8da3a6b-4425-4a80-cc6d-2279c110d7a3"
      },
      "execution_count": null,
      "outputs": [
        {
          "output_type": "stream",
          "name": "stdout",
          "text": [
            "2 4 6 8 10 12 14 16 18 20 22 24 26 28 30 32 34 36 38 40 42 44 46 48 50 52 54 56 58 60 62 64 66 68 70 72 74 76 78 80 82 84 86 88 90 92 94 96 98 "
          ]
        }
      ]
    },
    {
      "cell_type": "code",
      "source": [
        "for i in range(1, 100):\n",
        "  if i%2==0:\n",
        "    print(i, end=\" \")"
      ],
      "metadata": {
        "colab": {
          "base_uri": "https://localhost:8080/"
        },
        "id": "_Fn7ZNeYmQju",
        "outputId": "ea2bf16a-1d1c-4707-e9d7-64d32a01ab08"
      },
      "execution_count": null,
      "outputs": [
        {
          "output_type": "stream",
          "name": "stdout",
          "text": [
            "2 4 6 8 10 12 14 16 18 20 22 24 26 28 30 32 34 36 38 40 42 44 46 48 50 52 54 56 58 60 62 64 66 68 70 72 74 76 78 80 82 84 86 88 90 92 94 96 98 "
          ]
        }
      ]
    },
    {
      "cell_type": "code",
      "source": [
        "se=0\n",
        "so=0\n",
        "for i in range(1, 101):\n",
        "  if i%2==0:\n",
        "    se=se+i\n",
        "  else:\n",
        "    so=so+1\n",
        "print(\"Sum of even is: \",se)\n",
        "print(\"Sum of odd is: \",so)"
      ],
      "metadata": {
        "colab": {
          "base_uri": "https://localhost:8080/"
        },
        "id": "nkM3mkremnoa",
        "outputId": "86b1fc37-7779-4ad4-8396-8cb15ce8b021"
      },
      "execution_count": null,
      "outputs": [
        {
          "output_type": "stream",
          "name": "stdout",
          "text": [
            "Sum of even is:  2550\n",
            "Sum of odd is:  50\n"
          ]
        }
      ]
    },
    {
      "cell_type": "code",
      "source": [
        "a= int(input(\"Enter a number: \"))\n",
        "fact=1\n",
        "for i in range(1,a+1):\n",
        "  fact=fact*i\n",
        "print(\"Factorial is: \",fact)"
      ],
      "metadata": {
        "colab": {
          "base_uri": "https://localhost:8080/"
        },
        "id": "uYHPGx3DnIBu",
        "outputId": "8e6f65fc-889d-4b72-962f-6c231c2ccfb1"
      },
      "execution_count": null,
      "outputs": [
        {
          "output_type": "stream",
          "name": "stdout",
          "text": [
            "Enter a number: 5\n",
            "Factorial is:  120\n"
          ]
        }
      ]
    },
    {
      "cell_type": "code",
      "source": [
        "a= int(input(\"Enter a number: \"))\n",
        "fact=1\n",
        "for i in range(a,0, -1):\n",
        "  fact=fact*i\n",
        "print(\"Factorial is: \",fact)"
      ],
      "metadata": {
        "colab": {
          "base_uri": "https://localhost:8080/"
        },
        "id": "nZFzJHw-oxut",
        "outputId": "63015e79-2fb4-4616-ec70-4f8962ee8556"
      },
      "execution_count": null,
      "outputs": [
        {
          "output_type": "stream",
          "name": "stdout",
          "text": [
            "Enter a number: 5\n",
            "Factorial is:  120\n"
          ]
        }
      ]
    },
    {
      "cell_type": "code",
      "source": [
        "n=int(input(\"Enter a number: \"))\n",
        "for i in range(1, n+1):\n",
        "  if n%i==0:\n",
        "    print(i, end=\" \")"
      ],
      "metadata": {
        "colab": {
          "base_uri": "https://localhost:8080/"
        },
        "id": "J9IzJ7lBprhP",
        "outputId": "c90a6b70-99f8-49cc-ecbd-03a6bd594353"
      },
      "execution_count": null,
      "outputs": [
        {
          "output_type": "stream",
          "name": "stdout",
          "text": [
            "Enter a number: 12\n",
            "1 2 3 4 6 12 "
          ]
        }
      ]
    },
    {
      "cell_type": "code",
      "source": [
        "a=(1,2,3,4,56,7)\n",
        "for i in a:\n",
        "  if i%2==0:\n",
        "    print(i)\n",
        "  else:\n",
        "    print(\"Bye\")"
      ],
      "metadata": {
        "colab": {
          "base_uri": "https://localhost:8080/"
        },
        "id": "KdLDpXmQqqGa",
        "outputId": "6000e9a3-3709-45d0-fe54-35deefdee82a"
      },
      "execution_count": null,
      "outputs": [
        {
          "output_type": "stream",
          "name": "stdout",
          "text": [
            "Bye\n",
            "2\n",
            "Bye\n",
            "4\n",
            "56\n",
            "Bye\n"
          ]
        }
      ]
    },
    {
      "cell_type": "code",
      "source": [
        "s1='a'\n",
        "for i in range(5):\n",
        "  print(s1*i)"
      ],
      "metadata": {
        "colab": {
          "base_uri": "https://localhost:8080/"
        },
        "id": "2dOcb7EBrv6-",
        "outputId": "c3d3a4cb-066c-4abb-9dbe-2549924755af"
      },
      "execution_count": null,
      "outputs": [
        {
          "output_type": "stream",
          "name": "stdout",
          "text": [
            "\n",
            "a\n",
            "aa\n",
            "aaa\n",
            "aaaa\n"
          ]
        }
      ]
    },
    {
      "cell_type": "code",
      "source": [
        "s1='a'\n",
        "for i in range(5):\n",
        "  print(s1*i,end=\" \")"
      ],
      "metadata": {
        "colab": {
          "base_uri": "https://localhost:8080/"
        },
        "id": "2vMjOD3YsrKp",
        "outputId": "7e32ec98-8f41-4e6c-b87b-4063ed0dacdc"
      },
      "execution_count": null,
      "outputs": [
        {
          "output_type": "stream",
          "name": "stdout",
          "text": [
            " a aa aaa aaaa "
          ]
        }
      ]
    },
    {
      "cell_type": "code",
      "source": [
        "st='iit madras'\n",
        "for i in st:\n",
        "  print(i, end=\"@\")"
      ],
      "metadata": {
        "colab": {
          "base_uri": "https://localhost:8080/"
        },
        "id": "BhNQkyfos7SS",
        "outputId": "a25ae590-06c6-4019-d30e-a8d3b34e53c8"
      },
      "execution_count": null,
      "outputs": [
        {
          "output_type": "stream",
          "name": "stdout",
          "text": [
            "i@i@t@ @m@a@d@r@a@s@"
          ]
        }
      ]
    },
    {
      "cell_type": "code",
      "source": [
        "st='iit madras'\n",
        "for i in st:\n",
        "  print(i, end=\"\\n\")"
      ],
      "metadata": {
        "colab": {
          "base_uri": "https://localhost:8080/"
        },
        "id": "LkhILIFltRJe",
        "outputId": "46fbf033-b3b7-4cb3-b9f2-e671bce095db"
      },
      "execution_count": null,
      "outputs": [
        {
          "output_type": "stream",
          "name": "stdout",
          "text": [
            "i\n",
            "i\n",
            "t\n",
            " \n",
            "m\n",
            "a\n",
            "d\n",
            "r\n",
            "a\n",
            "s\n"
          ]
        }
      ]
    },
    {
      "cell_type": "code",
      "source": [
        "st='iit madras'\n",
        "for i in st:\n",
        "  print(i, end=\"\\t\")"
      ],
      "metadata": {
        "colab": {
          "base_uri": "https://localhost:8080/"
        },
        "id": "pxSG4BMPtZFH",
        "outputId": "d0fe39a9-a97f-4a30-a4ae-f0783aba4f87"
      },
      "execution_count": null,
      "outputs": [
        {
          "output_type": "stream",
          "name": "stdout",
          "text": [
            "i\ti\tt\t \tm\ta\td\tr\ta\ts\t"
          ]
        }
      ]
    },
    {
      "cell_type": "code",
      "source": [
        "a=\"hello everyone how are you\"\n",
        "vowel =[\"a\", \"e\", \"i\", \"o\", \"u\"]\n",
        "for i in a:\n",
        "  if i in vowel:\n",
        "    print(i)"
      ],
      "metadata": {
        "colab": {
          "base_uri": "https://localhost:8080/"
        },
        "id": "Y0pKBdh_tbuv",
        "outputId": "514685c3-bdce-463e-f34f-76d8874aa272"
      },
      "execution_count": null,
      "outputs": [
        {
          "output_type": "stream",
          "name": "stdout",
          "text": [
            "e\n",
            "o\n",
            "e\n",
            "e\n",
            "o\n",
            "e\n",
            "o\n",
            "a\n",
            "e\n",
            "o\n",
            "u\n"
          ]
        }
      ]
    },
    {
      "cell_type": "code",
      "source": [
        "a=[\"hello everyone how are you\",\"Shivajee\"]\n",
        "for i in a:\n",
        "  if i==\"Shivajee\":\n",
        "    print(i)"
      ],
      "metadata": {
        "colab": {
          "base_uri": "https://localhost:8080/"
        },
        "id": "99akRHZiuNM8",
        "outputId": "dc6e9ee5-16d4-44b2-d495-1b298467a08e"
      },
      "execution_count": null,
      "outputs": [
        {
          "output_type": "stream",
          "name": "stdout",
          "text": [
            "Shivajee\n"
          ]
        }
      ]
    },
    {
      "cell_type": "code",
      "source": [
        "word=\"hello1\"\n",
        "for w in word:\n",
        "  if w==\"l\":\n",
        "    print(\"good one\")\n",
        "else:\n",
        "  print(\"data science\")"
      ],
      "metadata": {
        "colab": {
          "base_uri": "https://localhost:8080/"
        },
        "id": "QdxUAErPvUyh",
        "outputId": "82e1edaa-cce6-4148-d757-a7c847ce4acb"
      },
      "execution_count": null,
      "outputs": [
        {
          "output_type": "stream",
          "name": "stdout",
          "text": [
            "good one\n",
            "good one\n",
            "data science\n"
          ]
        }
      ]
    },
    {
      "cell_type": "code",
      "source": [
        "name=\"arpit\"\n",
        "for i in name:\n",
        "  if i==\"p\":\n",
        "    print(\"that's great\")\n",
        "  print(i)\n",
        "  print(\"hello\")\n",
        "print(i)"
      ],
      "metadata": {
        "colab": {
          "base_uri": "https://localhost:8080/"
        },
        "id": "uCCA6Dvnvmli",
        "outputId": "f376cbb6-458a-46cf-f3df-221a6b32287c"
      },
      "execution_count": null,
      "outputs": [
        {
          "output_type": "stream",
          "name": "stdout",
          "text": [
            "a\n",
            "hello\n",
            "r\n",
            "hello\n",
            "that's great\n",
            "p\n",
            "hello\n",
            "i\n",
            "hello\n",
            "t\n",
            "hello\n",
            "t\n"
          ]
        }
      ]
    },
    {
      "cell_type": "code",
      "source": [
        "for i in range(2, 100):\n",
        "  n=i\n",
        "  j=1\n",
        "  co=0\n",
        "  while j<=n:\n",
        "    if n%j==0:\n",
        "      co=co+1\n",
        "    j=j+1\n",
        "  if co==2:\n",
        "    print(i, end=\" \")"
      ],
      "metadata": {
        "colab": {
          "base_uri": "https://localhost:8080/"
        },
        "id": "NzfRer9QwaaR",
        "outputId": "767e5023-fe46-433d-f575-fe4ecb632e01"
      },
      "execution_count": null,
      "outputs": [
        {
          "output_type": "stream",
          "name": "stdout",
          "text": [
            "2 3 5 7 11 13 17 19 23 29 31 37 41 43 47 53 59 61 67 71 73 79 83 89 97 "
          ]
        }
      ]
    },
    {
      "cell_type": "code",
      "source": [
        "for i in range(11, 1000):\n",
        "  n=i\n",
        "  rev=0\n",
        "  while n>0:\n",
        "    rem=n%10\n",
        "    rev=rev*10+rem\n",
        "    n=n//10\n",
        "\n",
        "  if rev==i:\n",
        "    print(i, end=\" \")"
      ],
      "metadata": {
        "colab": {
          "base_uri": "https://localhost:8080/"
        },
        "id": "0ZdWe5KNymNK",
        "outputId": "0e039a2e-76d1-4b57-bd8d-597ca3337ead"
      },
      "execution_count": null,
      "outputs": [
        {
          "output_type": "stream",
          "name": "stdout",
          "text": [
            "11 22 33 44 55 66 77 88 99 101 111 121 131 141 151 161 171 181 191 202 212 222 232 242 252 262 272 282 292 303 313 323 333 343 353 363 373 383 393 404 414 424 434 444 454 464 474 484 494 505 515 525 535 545 555 565 575 585 595 606 616 626 636 646 656 666 676 686 696 707 717 727 737 747 757 767 777 787 797 808 818 828 838 848 858 868 878 888 898 909 919 929 939 949 959 969 979 989 999 "
          ]
        }
      ]
    },
    {
      "cell_type": "code",
      "source": [],
      "metadata": {
        "id": "lFp-04hQ0YfL"
      },
      "execution_count": null,
      "outputs": []
    }
  ]
}