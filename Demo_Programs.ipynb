{
  "nbformat": 4,
  "nbformat_minor": 0,
  "metadata": {
    "colab": {
      "provenance": []
    },
    "kernelspec": {
      "name": "python3",
      "display_name": "Python 3"
    },
    "language_info": {
      "name": "python"
    }
  },
  "cells": [
    {
      "cell_type": "code",
      "execution_count": null,
      "metadata": {
        "colab": {
          "base_uri": "https://localhost:8080/"
        },
        "id": "FNV8BXTnuY2n",
        "outputId": "216d19dd-26a0-423e-962d-9e2bf41e6549"
      },
      "outputs": [
        {
          "output_type": "stream",
          "name": "stdout",
          "text": [
            "The interest is 896.0\n"
          ]
        }
      ],
      "source": [
        "p=4000\n",
        "r=5.6\n",
        "t=4\n",
        "si=p*r*t/100\n",
        "print(\"The interest is\", si)"
      ]
    },
    {
      "cell_type": "code",
      "source": [
        "#average of three numbers\n",
        "a=89.98\n",
        "b=78.87\n",
        "c=56.65\n",
        "avg=(a+b+c)/3\n",
        "print(\"Average is:\", avg)"
      ],
      "metadata": {
        "colab": {
          "base_uri": "https://localhost:8080/"
        },
        "id": "fICt8Zyywb4M",
        "outputId": "d00bf656-3c98-496f-9776-e3a39f50afb1"
      },
      "execution_count": null,
      "outputs": [
        {
          "output_type": "stream",
          "name": "stdout",
          "text": [
            "Average is: 75.16666666666667\n"
          ]
        }
      ]
    },
    {
      "cell_type": "code",
      "source": [
        "#percentage\n",
        "p=56\n",
        "c=76\n",
        "m=86\n",
        "e=67\n",
        "h=78\n",
        "s=p+c+m+e+h\n",
        "per= s*100/500\n",
        "print(\"The percentage is:\", per)"
      ],
      "metadata": {
        "colab": {
          "base_uri": "https://localhost:8080/"
        },
        "id": "kketinS7xtas",
        "outputId": "0db2d379-93e2-44fb-abb0-5a4ce61732bd"
      },
      "execution_count": null,
      "outputs": [
        {
          "output_type": "stream",
          "name": "stdout",
          "text": [
            "The percentage is: 72.6\n"
          ]
        }
      ]
    },
    {
      "cell_type": "code",
      "source": [
        "#square root\n",
        "import math\n",
        "n=36\n",
        "c=math.sqrt(n)\n",
        "print(\"square root:\", c)"
      ],
      "metadata": {
        "colab": {
          "base_uri": "https://localhost:8080/"
        },
        "id": "YY3qtV9rzrl5",
        "outputId": "5df0f441-b19f-4a02-c315-f341aa5c8d31"
      },
      "execution_count": null,
      "outputs": [
        {
          "output_type": "stream",
          "name": "stdout",
          "text": [
            "square root: 6.0\n"
          ]
        }
      ]
    },
    {
      "cell_type": "code",
      "source": [
        "#power\n",
        "a=6\n",
        "b=2\n",
        "c=math.pow(a,b)\n",
        "print(\"power:\", c)"
      ],
      "metadata": {
        "colab": {
          "base_uri": "https://localhost:8080/"
        },
        "id": "Dz1fDhYl1XqR",
        "outputId": "4c88b6f9-0948-4c14-cc29-f75db995a86e"
      },
      "execution_count": null,
      "outputs": [
        {
          "output_type": "stream",
          "name": "stdout",
          "text": [
            "power: 36.0\n"
          ]
        }
      ]
    },
    {
      "cell_type": "code",
      "source": [
        "a=67\n",
        "b=87\n",
        "a<b"
      ],
      "metadata": {
        "colab": {
          "base_uri": "https://localhost:8080/"
        },
        "id": "RruQN8he2T1r",
        "outputId": "35c9a579-fba8-4726-b95c-ca896dc98720"
      },
      "execution_count": null,
      "outputs": [
        {
          "output_type": "execute_result",
          "data": {
            "text/plain": [
              "True"
            ]
          },
          "metadata": {},
          "execution_count": 8
        }
      ]
    },
    {
      "cell_type": "code",
      "source": [
        "a>b\n"
      ],
      "metadata": {
        "colab": {
          "base_uri": "https://localhost:8080/"
        },
        "id": "np2CB4oE6DEx",
        "outputId": "87e95f1a-4be0-436e-ed8e-d3323f94b44f"
      },
      "execution_count": null,
      "outputs": [
        {
          "output_type": "execute_result",
          "data": {
            "text/plain": [
              "False"
            ]
          },
          "metadata": {},
          "execution_count": 9
        }
      ]
    },
    {
      "cell_type": "code",
      "source": [
        "True and True and True"
      ],
      "metadata": {
        "colab": {
          "base_uri": "https://localhost:8080/"
        },
        "id": "bq88A60s6FRI",
        "outputId": "b8dd0c84-a38e-4d6f-ed61-e2e92b3c533f"
      },
      "execution_count": null,
      "outputs": [
        {
          "output_type": "execute_result",
          "data": {
            "text/plain": [
              "True"
            ]
          },
          "metadata": {},
          "execution_count": 10
        }
      ]
    },
    {
      "cell_type": "code",
      "source": [
        "True and True and False"
      ],
      "metadata": {
        "colab": {
          "base_uri": "https://localhost:8080/"
        },
        "id": "iXrO7ZZ78eNp",
        "outputId": "088d942a-c8e0-426c-86c9-997a728cd2ae"
      },
      "execution_count": null,
      "outputs": [
        {
          "output_type": "execute_result",
          "data": {
            "text/plain": [
              "False"
            ]
          },
          "metadata": {},
          "execution_count": 11
        }
      ]
    },
    {
      "cell_type": "code",
      "source": [
        "True or True or True\n"
      ],
      "metadata": {
        "colab": {
          "base_uri": "https://localhost:8080/"
        },
        "id": "Qpu2MIqx8iJV",
        "outputId": "7259b449-9410-4b7a-96d3-8e7671b7ba01"
      },
      "execution_count": null,
      "outputs": [
        {
          "output_type": "execute_result",
          "data": {
            "text/plain": [
              "True"
            ]
          },
          "metadata": {},
          "execution_count": 12
        }
      ]
    },
    {
      "cell_type": "code",
      "source": [
        "True or True or True"
      ],
      "metadata": {
        "colab": {
          "base_uri": "https://localhost:8080/"
        },
        "id": "3f-zWIVn8lvW",
        "outputId": "04963a7c-4a91-4e55-a548-17ab13009cf9"
      },
      "execution_count": null,
      "outputs": [
        {
          "output_type": "execute_result",
          "data": {
            "text/plain": [
              "True"
            ]
          },
          "metadata": {},
          "execution_count": 14
        }
      ]
    },
    {
      "cell_type": "code",
      "source": [
        "True or True or False"
      ],
      "metadata": {
        "colab": {
          "base_uri": "https://localhost:8080/"
        },
        "id": "kZ3AyFtT8pQl",
        "outputId": "936d6e09-c402-4a89-b332-583690d3d63a"
      },
      "execution_count": null,
      "outputs": [
        {
          "output_type": "execute_result",
          "data": {
            "text/plain": [
              "True"
            ]
          },
          "metadata": {},
          "execution_count": 15
        }
      ]
    },
    {
      "cell_type": "code",
      "source": [
        "not True"
      ],
      "metadata": {
        "colab": {
          "base_uri": "https://localhost:8080/"
        },
        "id": "AMvTzI4i8ta6",
        "outputId": "6971fb05-5805-4526-da7a-879fa7f5c7e0"
      },
      "execution_count": null,
      "outputs": [
        {
          "output_type": "execute_result",
          "data": {
            "text/plain": [
              "False"
            ]
          },
          "metadata": {},
          "execution_count": 16
        }
      ]
    },
    {
      "cell_type": "code",
      "source": [
        "True and True and False or True and False or True"
      ],
      "metadata": {
        "colab": {
          "base_uri": "https://localhost:8080/"
        },
        "id": "wDjvNSe88wUX",
        "outputId": "9822a565-8d10-4ad3-b808-0a17861f027b"
      },
      "execution_count": null,
      "outputs": [
        {
          "output_type": "execute_result",
          "data": {
            "text/plain": [
              "True"
            ]
          },
          "metadata": {},
          "execution_count": 17
        }
      ]
    },
    {
      "cell_type": "code",
      "source": [
        "a=10\n",
        "b=20\n",
        "c=21\n",
        "a>b and a>c"
      ],
      "metadata": {
        "colab": {
          "base_uri": "https://localhost:8080/"
        },
        "id": "6c1Rc2wE9Aul",
        "outputId": "e84ff80a-164f-45c9-dd4e-1309d1e1a6d8"
      },
      "execution_count": null,
      "outputs": [
        {
          "output_type": "execute_result",
          "data": {
            "text/plain": [
              "False"
            ]
          },
          "metadata": {},
          "execution_count": 18
        }
      ]
    },
    {
      "cell_type": "code",
      "source": [
        "b>a and b>c"
      ],
      "metadata": {
        "colab": {
          "base_uri": "https://localhost:8080/"
        },
        "id": "4PWvzU5j9zZv",
        "outputId": "0bde01f4-cd36-421e-9f67-02f3a7b977ca"
      },
      "execution_count": null,
      "outputs": [
        {
          "output_type": "execute_result",
          "data": {
            "text/plain": [
              "False"
            ]
          },
          "metadata": {},
          "execution_count": 19
        }
      ]
    },
    {
      "cell_type": "code",
      "source": [
        "c>a and c>b"
      ],
      "metadata": {
        "colab": {
          "base_uri": "https://localhost:8080/"
        },
        "id": "-cnBD9PO-CaM",
        "outputId": "347dfba3-4cfb-4a6e-c331-7a701231bfa2"
      },
      "execution_count": null,
      "outputs": [
        {
          "output_type": "execute_result",
          "data": {
            "text/plain": [
              "True"
            ]
          },
          "metadata": {},
          "execution_count": 20
        }
      ]
    },
    {
      "cell_type": "code",
      "source": [
        "#sum of two numbers\n",
        "a=int(input(\"Enter the first number:\"))\n",
        "b=int(input(\"Enter the second number:\"))\n",
        "c=a+b\n",
        "print(\"The sum is:\", c)"
      ],
      "metadata": {
        "colab": {
          "base_uri": "https://localhost:8080/"
        },
        "id": "H9FouEYP-GVK",
        "outputId": "a0066ae8-2251-4ffe-e503-dcf27e733c4a"
      },
      "execution_count": null,
      "outputs": [
        {
          "output_type": "stream",
          "name": "stdout",
          "text": [
            "Enter the first number:5\n",
            "Enter the second number:8\n",
            "The sum is: 13\n"
          ]
        }
      ]
    },
    {
      "cell_type": "code",
      "source": [
        "p=float(input(\"Enter the principle amount:\"))\n",
        "r=float(input(\"Enter the rate:\"))\n",
        "t=float(input(\"Enter the time:\"))\n",
        "si=p*r*t/100\n",
        "print(\"The interest is\", si)"
      ],
      "metadata": {
        "colab": {
          "base_uri": "https://localhost:8080/"
        },
        "id": "4qcpPebIAQVN",
        "outputId": "17093a68-9dcb-4334-8cf9-ec1ae5af56fc"
      },
      "execution_count": null,
      "outputs": [
        {
          "output_type": "stream",
          "name": "stdout",
          "text": [
            "Enter the principle amount:5000\n",
            "Enter the rate:7.5\n",
            "Enter the time:8\n",
            "The interest is 3000.0\n"
          ]
        }
      ]
    },
    {
      "cell_type": "code",
      "source": [
        "a=int(input(\"Enter one number:\"))\n",
        "b=int(input(\"Enter another number:\"))\n",
        "c=(a+b)/((a+b)//b)\n",
        "print(\"See the magic = \", c)"
      ],
      "metadata": {
        "id": "mf5uei6LBGdL",
        "colab": {
          "base_uri": "https://localhost:8080/"
        },
        "outputId": "555cdb18-2c04-4d33-f1df-17331c07edf3"
      },
      "execution_count": null,
      "outputs": [
        {
          "output_type": "stream",
          "name": "stdout",
          "text": [
            "Enter one number:5\n",
            "Enter another number:9\n",
            "See the magic =  14.0\n"
          ]
        }
      ]
    },
    {
      "cell_type": "code",
      "source": [
        "a=input(\"First name: \")\n",
        "b=input(\"Last name: \")\n",
        "print(b[0:3]+a[0:3])"
      ],
      "metadata": {
        "colab": {
          "base_uri": "https://localhost:8080/"
        },
        "id": "Mdy5zAnCi4qq",
        "outputId": "ebff21d2-dbbb-4d4d-a3dd-d2579f5b136f"
      },
      "execution_count": null,
      "outputs": [
        {
          "output_type": "stream",
          "name": "stdout",
          "text": [
            "First name: Shivaji\n",
            "Last name: Pratap\n",
            "PraShi\n"
          ]
        }
      ]
    },
    {
      "cell_type": "code",
      "source": [
        "import random"
      ],
      "metadata": {
        "id": "AGu9MLeyjkRi"
      },
      "execution_count": null,
      "outputs": []
    },
    {
      "cell_type": "code",
      "source": [
        "otp=random.randint(1000, 9999)\n",
        "print(\"OTP is \", otp)"
      ],
      "metadata": {
        "colab": {
          "base_uri": "https://localhost:8080/"
        },
        "id": "uqSSNhAVlDfh",
        "outputId": "2a61d845-5548-45f1-aa70-c28a5b6a59d6"
      },
      "execution_count": null,
      "outputs": [
        {
          "output_type": "stream",
          "name": "stdout",
          "text": [
            "OTP is  8533\n"
          ]
        }
      ]
    },
    {
      "cell_type": "code",
      "source": [
        "otp=random.randint(1000, 9999)\n",
        "print(\"OTP is \", otp)"
      ],
      "metadata": {
        "colab": {
          "base_uri": "https://localhost:8080/"
        },
        "id": "nhOcp0oLlTN1",
        "outputId": "a4a5a4dc-ca70-44aa-929e-e5141007fea0"
      },
      "execution_count": null,
      "outputs": [
        {
          "output_type": "stream",
          "name": "stdout",
          "text": [
            "OTP is  4539\n"
          ]
        }
      ]
    },
    {
      "cell_type": "code",
      "source": [
        "otp=random.randint(1000, 9999)\n",
        "print(\"OTP is \", otp)\n",
        "otp=random.randint(1000, 9999)\n",
        "print(\"OTP is \", otp)\n",
        "otp=random.randint(1000, 9999)\n",
        "print(\"OTP is \", otp)\n",
        "otp=random.randint(1000, 9999)\n",
        "print(\"OTP is \", otp)\n",
        "otp=random.randint(1000, 9999)\n",
        "print(\"OTP is \", otp)\n",
        "otp=random.randint(1000, 9999)\n",
        "print(\"OTP is \", otp)\n",
        "otp=random.randint(1000, 9999)\n",
        "print(\"OTP is \", otp)\n",
        "otp=random.randint(1000, 9999)\n",
        "print(\"OTP is \", otp)"
      ],
      "metadata": {
        "colab": {
          "base_uri": "https://localhost:8080/"
        },
        "id": "3t69bzDzlYBz",
        "outputId": "874be22f-e84c-4699-cc89-3b1d4142435e"
      },
      "execution_count": null,
      "outputs": [
        {
          "output_type": "stream",
          "name": "stdout",
          "text": [
            "OTP is  9295\n",
            "OTP is  5790\n",
            "OTP is  4834\n",
            "OTP is  4350\n",
            "OTP is  1527\n",
            "OTP is  3879\n",
            "OTP is  8109\n",
            "OTP is  3389\n"
          ]
        }
      ]
    },
    {
      "cell_type": "code",
      "source": [
        "#average of two numbers\n",
        "a=int(input(\"Enter the first number: \"))\n",
        "b=int(input(\"Enter the second number: \"))\n",
        "c=int(input(\"Enter the third number: \"))\n",
        "avg=(a+b+c)/3\n",
        "print(\"Average is: \", avg)"
      ],
      "metadata": {
        "id": "SuYQT0LXlgyU",
        "colab": {
          "base_uri": "https://localhost:8080/"
        },
        "outputId": "e6610171-92c3-4b1f-b4b5-657907b522d6"
      },
      "execution_count": null,
      "outputs": [
        {
          "output_type": "stream",
          "name": "stdout",
          "text": [
            "Enter the first number: 24\n",
            "Enter the second number: 56\n",
            "Enter the third number: 76\n",
            "Average is:  52.0\n"
          ]
        }
      ]
    },
    {
      "cell_type": "code",
      "source": [
        "#marks percentage\n",
        "p=int(input(\"Enter the mark of Physics: \"))\n",
        "c=int(input(\"Enter the mark of Chemistry: \"))\n",
        "m=int(input(\"Enter the mark of Math: \"))\n",
        "e=int(input(\"Enter the mark of English: \"))\n",
        "h=int(input(\"Enter the mark of Hindi: \"))\n",
        "per=((p+c+m+e+h)*100)/500\n",
        "print(\"\\nThe percentage is:\", per,\"%\")"
      ],
      "metadata": {
        "colab": {
          "base_uri": "https://localhost:8080/"
        },
        "id": "sa_YaqQG8EKC",
        "outputId": "01f06e74-8b45-4a51-8741-9a7d3b445ee2"
      },
      "execution_count": null,
      "outputs": [
        {
          "output_type": "stream",
          "name": "stdout",
          "text": [
            "Enter the mark of Physics: 54\n",
            "Enter the mark of Chemistry: 65\n",
            "Enter the mark of Math: 76\n",
            "Enter the mark of English: 68\n",
            "Enter the mark of Hindi: 98\n",
            "\n",
            "The percentage is: 72.2 %\n"
          ]
        }
      ]
    },
    {
      "cell_type": "code",
      "source": [
        "#find the sqaure root\n",
        "import math\n",
        "n=float(input(\"Enter the number: \"))\n",
        "x=math.sqrt(n)\n",
        "print(\"The result is = \",x)"
      ],
      "metadata": {
        "colab": {
          "base_uri": "https://localhost:8080/"
        },
        "id": "BM-wsh-G9nMD",
        "outputId": "496d7f6b-6ff4-4438-ce0f-2d8ee76562f9"
      },
      "execution_count": null,
      "outputs": [
        {
          "output_type": "stream",
          "name": "stdout",
          "text": [
            "Enter the number: 64\n",
            "The result is =  8.0\n"
          ]
        }
      ]
    },
    {
      "cell_type": "code",
      "source": [
        "#exponent\n",
        "a=int(input(\"Enter the base: \"))\n",
        "b=int(input(\"Enter the exponent value: \"))\n",
        "print(a**b)\n",
        "print(pow(a,b))\n",
        "print(math.pow(a,b))"
      ],
      "metadata": {
        "colab": {
          "base_uri": "https://localhost:8080/"
        },
        "id": "apanF6ma_4pm",
        "outputId": "5fe7ee56-d76f-49e2-f9dd-7994db1e3125"
      },
      "execution_count": null,
      "outputs": [
        {
          "output_type": "stream",
          "name": "stdout",
          "text": [
            "Enter the base: 45\n",
            "Enter the exponent value: 3\n",
            "91125\n",
            "91125\n",
            "91125.0\n"
          ]
        }
      ]
    },
    {
      "cell_type": "code",
      "source": [
        "#example if\n",
        "a=int(input(\"Enter a number: \"))\n",
        "if a==10:\n",
        "  print(\"You Won\")\n",
        "  print(\"Thank You!!\")\n",
        "print(\"............................\\nThis statement is out of if\")"
      ],
      "metadata": {
        "colab": {
          "base_uri": "https://localhost:8080/"
        },
        "id": "dLuE9T5gB5Xn",
        "outputId": "bfbfb778-7bff-4005-94f9-82315d936ea9"
      },
      "execution_count": null,
      "outputs": [
        {
          "output_type": "stream",
          "name": "stdout",
          "text": [
            "Enter a number: 10\n",
            "You Won\n",
            "Thank You!!\n",
            "............................\n",
            "This statement is out of if\n"
          ]
        }
      ]
    },
    {
      "cell_type": "code",
      "source": [
        "#example\n",
        "a=int(input(\"Enter a number: \"))\n",
        "if a>0:\n",
        "  print(\"Positive\")\n",
        "if a<0:\n",
        "  print(\"Negative\")\n",
        "if a==0:\n",
        "  print(\"Zero\")\n"
      ],
      "metadata": {
        "colab": {
          "base_uri": "https://localhost:8080/"
        },
        "id": "U8Xadtp5FgE-",
        "outputId": "adf26a96-8151-4700-ee39-f9947e2cf9ab"
      },
      "execution_count": null,
      "outputs": [
        {
          "output_type": "stream",
          "name": "stdout",
          "text": [
            "Enter a number: 0\n",
            "Zero\n"
          ]
        }
      ]
    },
    {
      "cell_type": "code",
      "source": [
        "#example3\n",
        "a=int(input(\"Enter a number: \"))\n",
        "if a==10:\n",
        "  print(\"You Won\")\n",
        "else:\n",
        "  print(\"You Loose\")\n",
        "print(\"......................\")"
      ],
      "metadata": {
        "colab": {
          "base_uri": "https://localhost:8080/"
        },
        "id": "3amhi3YdGx32",
        "outputId": "e228af74-ffc1-4e16-8744-dac135ec4a56"
      },
      "execution_count": null,
      "outputs": [
        {
          "output_type": "stream",
          "name": "stdout",
          "text": [
            "Enter a number: 4\n",
            "You Loose\n",
            "......................\n"
          ]
        }
      ]
    },
    {
      "cell_type": "code",
      "source": [
        "#check even and odd\n",
        "n=int(input(\"Enter the number: \"))\n",
        "if n%2==0:\n",
        "  print(\"Even number\")\n",
        "else:\n",
        "  print(\"Odd number\")"
      ],
      "metadata": {
        "colab": {
          "base_uri": "https://localhost:8080/"
        },
        "id": "RcaF2N1NIwkV",
        "outputId": "4dd32585-2b97-4dee-84f0-754e87dd472c"
      },
      "execution_count": null,
      "outputs": [
        {
          "output_type": "stream",
          "name": "stdout",
          "text": [
            "Enter the number: 4\n",
            "Even number\n"
          ]
        }
      ]
    },
    {
      "cell_type": "code",
      "source": [
        "year=int(input(\"Enter the year: \"))\n",
        "if year%4==0:\n",
        "  print(\"Leap Year\")\n",
        "else:\n",
        "  print(\"Non leap Year\")"
      ],
      "metadata": {
        "id": "QKG2uyGdJs4p",
        "colab": {
          "base_uri": "https://localhost:8080/"
        },
        "outputId": "77ebdc11-d943-4863-f11d-80aa32dc8eca"
      },
      "execution_count": null,
      "outputs": [
        {
          "output_type": "stream",
          "name": "stdout",
          "text": [
            "Enter the year: 2023\n",
            "Non leap Year\n"
          ]
        }
      ]
    },
    {
      "cell_type": "code",
      "source": [
        "age=int(input(\"Enter your age: \"))\n",
        "if age>=18:\n",
        "  print(\"You are eligible to vote.\")\n",
        "else:\n",
        "  print(\"You are not eligible to vote.\")"
      ],
      "metadata": {
        "colab": {
          "base_uri": "https://localhost:8080/"
        },
        "id": "XeIBvFTRjbEX",
        "outputId": "4d477806-9f51-4814-9fbc-9ea85524111f"
      },
      "execution_count": null,
      "outputs": [
        {
          "output_type": "stream",
          "name": "stdout",
          "text": [
            "Enter your age: 15\n",
            "You are not eligible to vote.\n"
          ]
        }
      ]
    },
    {
      "cell_type": "code",
      "source": [
        "day=int(input(\"Enter the day number(from 1 to 7): \"))\n",
        "if day==1:\n",
        "  print(\"SUNDAY\")\n",
        "elif day==2:\n",
        "  print(\"MONDAY\")\n",
        "elif day==3:\n",
        "  print(\"TUESDAY\")\n",
        "elif day==4:\n",
        "  print(\"WEDNESDAY\")\n",
        "elif day==5:\n",
        "  print(\"THURSDAY\")\n",
        "elif day==6:\n",
        "  print(\"FRIDAY\")\n",
        "elif day==7:\n",
        "  print(\"SATURDAY\")\n",
        "else:\n",
        "  print(\"Invalid Input!\")"
      ],
      "metadata": {
        "colab": {
          "base_uri": "https://localhost:8080/"
        },
        "id": "4pjnwzMbkRZk",
        "outputId": "1f9a1d8c-60b6-422c-9bb7-b2c589301b40"
      },
      "execution_count": null,
      "outputs": [
        {
          "output_type": "stream",
          "name": "stdout",
          "text": [
            "Enter the day number(from 1 to 7): 9\n",
            "Invalid Input!\n"
          ]
        }
      ]
    },
    {
      "cell_type": "code",
      "source": [
        "p=float(input(\"Enter the mark of Physics: \"))\n",
        "c=float(input(\"Enter the mark of Chemistry: \"))\n",
        "m=float(input(\"Enter the mark of Math: \"))\n",
        "e=float(input(\"Enter the mark of English: \"))\n",
        "h=float(input(\"Enter the mark of Hindi: \"))\n",
        "per=((p+c+m+e+h)*100)/500\n",
        "if per>=60:\n",
        "  print(per,\"% - \"\"First Division\")\n",
        "elif per>=45:\n",
        "  print(per,\"% - \"\"Second Division\")\n",
        "elif per>=33:\n",
        "  print(per, \"% - \"\"Third Division\")\n",
        "else:\n",
        "  print(per, \"% - \"\"Fail!!\")"
      ],
      "metadata": {
        "colab": {
          "base_uri": "https://localhost:8080/"
        },
        "id": "7qJ5H0CLm_eu",
        "outputId": "a5dcf9cb-1b9d-4eb6-e6ae-f70d6dc4a90e"
      },
      "execution_count": null,
      "outputs": [
        {
          "output_type": "stream",
          "name": "stdout",
          "text": [
            "Enter the mark of Physics: 67\n",
            "Enter the mark of Chemistry: 87\n",
            "Enter the mark of Math: 89\n",
            "Enter the mark of English: 98\n",
            "Enter the mark of Hindi: 99\n",
            "88.0 % - First Division\n"
          ]
        }
      ]
    },
    {
      "cell_type": "code",
      "source": [
        "a=int(input(\"Enter the number: \"))\n",
        "b=int(input(\"Enter the number: \"))\n",
        "c=int(input(\"Enter the number: \"))\n",
        "if a>b and a>c:\n",
        "  print(a, \" is greatest\")\n",
        "elif b>a and b>c:\n",
        "  print(b, \" is greatest\")\n",
        "else:\n",
        "  print(c, \" is greatest\")"
      ],
      "metadata": {
        "colab": {
          "base_uri": "https://localhost:8080/"
        },
        "id": "B6Alb5DvqIz2",
        "outputId": "0db5b4a0-9922-44dd-f2e5-560d66cdeb21"
      },
      "execution_count": null,
      "outputs": [
        {
          "output_type": "stream",
          "name": "stdout",
          "text": [
            "Enter the number: 3\n",
            "Enter the number: 4\n",
            "Enter the number: 5\n",
            "5  is greatest\n"
          ]
        }
      ]
    },
    {
      "cell_type": "code",
      "source": [
        "#check vowel or consonent\n",
        "ch=input(\"Enter an alphabet: \")\n",
        "if ch=='a' or ch=='e' or ch=='i' or ch=='o' or ch=='u' or ch=='A' or ch=='E' or ch=='I' or ch=='O' or ch=='U':\n",
        "  print(\"Vowel\")\n",
        "else:\n",
        "  print(\"Consonent\")"
      ],
      "metadata": {
        "colab": {
          "base_uri": "https://localhost:8080/",
          "height": 373
        },
        "id": "24N_xblntnIs",
        "outputId": "8e4f876d-a9b3-47a5-b200-7f1f35beb7d1"
      },
      "execution_count": null,
      "outputs": [
        {
          "output_type": "error",
          "ename": "KeyboardInterrupt",
          "evalue": "Interrupted by user",
          "traceback": [
            "\u001b[0;31m---------------------------------------------------------------------------\u001b[0m",
            "\u001b[0;31mKeyboardInterrupt\u001b[0m                         Traceback (most recent call last)",
            "\u001b[0;32m<ipython-input-23-819fcf7fb61d>\u001b[0m in \u001b[0;36m<cell line: 2>\u001b[0;34m()\u001b[0m\n\u001b[1;32m      1\u001b[0m \u001b[0;31m#check vowel or consonent\u001b[0m\u001b[0;34m\u001b[0m\u001b[0;34m\u001b[0m\u001b[0m\n\u001b[0;32m----> 2\u001b[0;31m \u001b[0mch\u001b[0m\u001b[0;34m=\u001b[0m\u001b[0minput\u001b[0m\u001b[0;34m(\u001b[0m\u001b[0;34m\"Enter an alphabet: \"\u001b[0m\u001b[0;34m)\u001b[0m\u001b[0;34m\u001b[0m\u001b[0;34m\u001b[0m\u001b[0m\n\u001b[0m\u001b[1;32m      3\u001b[0m \u001b[0;32mif\u001b[0m \u001b[0mch\u001b[0m\u001b[0;34m==\u001b[0m\u001b[0;34m'a'\u001b[0m \u001b[0;32mor\u001b[0m \u001b[0mch\u001b[0m\u001b[0;34m==\u001b[0m\u001b[0;34m'e'\u001b[0m \u001b[0;32mor\u001b[0m \u001b[0mch\u001b[0m\u001b[0;34m==\u001b[0m\u001b[0;34m'i'\u001b[0m \u001b[0;32mor\u001b[0m \u001b[0mch\u001b[0m\u001b[0;34m==\u001b[0m\u001b[0;34m'o'\u001b[0m \u001b[0;32mor\u001b[0m \u001b[0mch\u001b[0m\u001b[0;34m==\u001b[0m\u001b[0;34m'u'\u001b[0m \u001b[0;32mor\u001b[0m \u001b[0mch\u001b[0m\u001b[0;34m==\u001b[0m\u001b[0;34m'A'\u001b[0m \u001b[0;32mor\u001b[0m \u001b[0mch\u001b[0m\u001b[0;34m==\u001b[0m\u001b[0;34m'E'\u001b[0m \u001b[0;32mor\u001b[0m \u001b[0mch\u001b[0m\u001b[0;34m==\u001b[0m\u001b[0;34m'I'\u001b[0m \u001b[0;32mor\u001b[0m \u001b[0mch\u001b[0m\u001b[0;34m==\u001b[0m\u001b[0;34m'O'\u001b[0m \u001b[0;32mor\u001b[0m \u001b[0mch\u001b[0m\u001b[0;34m==\u001b[0m\u001b[0;34m'U'\u001b[0m\u001b[0;34m:\u001b[0m\u001b[0;34m\u001b[0m\u001b[0;34m\u001b[0m\u001b[0m\n\u001b[1;32m      4\u001b[0m   \u001b[0mprint\u001b[0m\u001b[0;34m(\u001b[0m\u001b[0;34m\"Vowel\"\u001b[0m\u001b[0;34m)\u001b[0m\u001b[0;34m\u001b[0m\u001b[0;34m\u001b[0m\u001b[0m\n\u001b[1;32m      5\u001b[0m \u001b[0;32melse\u001b[0m\u001b[0;34m:\u001b[0m\u001b[0;34m\u001b[0m\u001b[0;34m\u001b[0m\u001b[0m\n",
            "\u001b[0;32m/usr/local/lib/python3.10/dist-packages/ipykernel/kernelbase.py\u001b[0m in \u001b[0;36mraw_input\u001b[0;34m(self, prompt)\u001b[0m\n\u001b[1;32m    849\u001b[0m                 \u001b[0;34m\"raw_input was called, but this frontend does not support input requests.\"\u001b[0m\u001b[0;34m\u001b[0m\u001b[0;34m\u001b[0m\u001b[0m\n\u001b[1;32m    850\u001b[0m             )\n\u001b[0;32m--> 851\u001b[0;31m         return self._input_request(str(prompt),\n\u001b[0m\u001b[1;32m    852\u001b[0m             \u001b[0mself\u001b[0m\u001b[0;34m.\u001b[0m\u001b[0m_parent_ident\u001b[0m\u001b[0;34m,\u001b[0m\u001b[0;34m\u001b[0m\u001b[0;34m\u001b[0m\u001b[0m\n\u001b[1;32m    853\u001b[0m             \u001b[0mself\u001b[0m\u001b[0;34m.\u001b[0m\u001b[0m_parent_header\u001b[0m\u001b[0;34m,\u001b[0m\u001b[0;34m\u001b[0m\u001b[0;34m\u001b[0m\u001b[0m\n",
            "\u001b[0;32m/usr/local/lib/python3.10/dist-packages/ipykernel/kernelbase.py\u001b[0m in \u001b[0;36m_input_request\u001b[0;34m(self, prompt, ident, parent, password)\u001b[0m\n\u001b[1;32m    893\u001b[0m             \u001b[0;32mexcept\u001b[0m \u001b[0mKeyboardInterrupt\u001b[0m\u001b[0;34m:\u001b[0m\u001b[0;34m\u001b[0m\u001b[0;34m\u001b[0m\u001b[0m\n\u001b[1;32m    894\u001b[0m                 \u001b[0;31m# re-raise KeyboardInterrupt, to truncate traceback\u001b[0m\u001b[0;34m\u001b[0m\u001b[0;34m\u001b[0m\u001b[0m\n\u001b[0;32m--> 895\u001b[0;31m                 \u001b[0;32mraise\u001b[0m \u001b[0mKeyboardInterrupt\u001b[0m\u001b[0;34m(\u001b[0m\u001b[0;34m\"Interrupted by user\"\u001b[0m\u001b[0;34m)\u001b[0m \u001b[0;32mfrom\u001b[0m \u001b[0;32mNone\u001b[0m\u001b[0;34m\u001b[0m\u001b[0;34m\u001b[0m\u001b[0m\n\u001b[0m\u001b[1;32m    896\u001b[0m             \u001b[0;32mexcept\u001b[0m \u001b[0mException\u001b[0m \u001b[0;32mas\u001b[0m \u001b[0me\u001b[0m\u001b[0;34m:\u001b[0m\u001b[0;34m\u001b[0m\u001b[0;34m\u001b[0m\u001b[0m\n\u001b[1;32m    897\u001b[0m                 \u001b[0mself\u001b[0m\u001b[0;34m.\u001b[0m\u001b[0mlog\u001b[0m\u001b[0;34m.\u001b[0m\u001b[0mwarning\u001b[0m\u001b[0;34m(\u001b[0m\u001b[0;34m\"Invalid Message:\"\u001b[0m\u001b[0;34m,\u001b[0m \u001b[0mexc_info\u001b[0m\u001b[0;34m=\u001b[0m\u001b[0;32mTrue\u001b[0m\u001b[0;34m)\u001b[0m\u001b[0;34m\u001b[0m\u001b[0;34m\u001b[0m\u001b[0m\n",
            "\u001b[0;31mKeyboardInterrupt\u001b[0m: Interrupted by user"
          ]
        }
      ]
    },
    {
      "cell_type": "code",
      "source": [
        "ch=input(\"Enter an alphabet: \")\n",
        "if ch in ['a','e','i','o','u','A','E','I','O','U']:\n",
        "  print(\"Vowel\")\n",
        "else:\n",
        "  print(\"Consonent\")"
      ],
      "metadata": {
        "colab": {
          "base_uri": "https://localhost:8080/"
        },
        "id": "_nY1Y_JEvJ5i",
        "outputId": "04b32690-3902-4598-f7f8-088f151df44b"
      },
      "execution_count": null,
      "outputs": [
        {
          "output_type": "stream",
          "name": "stdout",
          "text": [
            "Enter an alphabet: X\n",
            "Consonent\n"
          ]
        }
      ]
    },
    {
      "cell_type": "code",
      "source": [
        "#traffic light\n",
        "ch=input(\"Enter colour code like \\n r for red \\n g for green \\n y for yellow \\n\")\n",
        "if ch=='r' or ch=='R':\n",
        "  print(\"Stop\")\n",
        "elif ch=='y' or ch=='Y':\n",
        "  print(\"Ready\")\n",
        "elif ch=='g' or ch=='G':\n",
        "  print(\"GO\")\n",
        "else:\n",
        "  print(\"Pay challan\")"
      ],
      "metadata": {
        "colab": {
          "base_uri": "https://localhost:8080/"
        },
        "id": "g_3i5PcUwlcL",
        "outputId": "2693aef4-0da6-48fe-bd1a-3b2c23571c70"
      },
      "execution_count": null,
      "outputs": [
        {
          "output_type": "stream",
          "name": "stdout",
          "text": [
            "Enter colour code like \n",
            " r for red \n",
            " g for green \n",
            " y for yellow \n",
            "e\n",
            "Pay challan\n"
          ]
        }
      ]
    },
    {
      "cell_type": "code",
      "source": [
        "#small calculator\n",
        "a=int(input(\"Enter first number: \"))\n",
        "b=int(input(\"Enter second number: \"))\n",
        "print(\"1. ADD\")\n",
        "print(\"1. Subtract\")\n",
        "print(\"1. Multiply\")\n",
        "print(\"1. Divide\")\n",
        "choice=int(input(\"Enter your choice: \"))\n",
        "if choice==1:\n",
        "  print(\"Sum is \", a+b)\n",
        "elif choice==2:\n",
        "  print(\"Subtraction is \", a-b)\n",
        "elif choice==3:\n",
        "  print(\"Multiplication is \", a*b)\n",
        "elif choice==4:\n",
        "  print(\"Division is \", a/b)\n",
        "else:\n",
        "  print(\"Invalid Input\")"
      ],
      "metadata": {
        "id": "sOcgF_5hymNm",
        "colab": {
          "base_uri": "https://localhost:8080/"
        },
        "outputId": "3ce1c068-70f0-4c42-f1f7-0183974174a1"
      },
      "execution_count": null,
      "outputs": [
        {
          "output_type": "stream",
          "name": "stdout",
          "text": [
            "Enter first number: 5\n",
            "Enter second number: 6\n",
            "1. ADD\n",
            "1. Subtract\n",
            "1. Multiply\n",
            "1. Divide\n",
            "Enter your choice: 3\n",
            "Multiplication is  30\n"
          ]
        }
      ]
    },
    {
      "cell_type": "code",
      "source": [
        "a=int(input(\"Enter first number: \"))\n",
        "b=int(input(\"Enter second number: \"))\n",
        "c=int(input(\"Enter third number: \"))\n",
        "if a>b:\n",
        "  if a>c:\n",
        "    print(a, \"is greatest.\")\n",
        "  else:\n",
        "    print(c, \"is greatest.\")\n",
        "else:\n",
        "  if b>c:\n",
        "    print(b, \"is greatest.\")\n",
        "  else:\n",
        "    print(c, \"is greatest.\")"
      ],
      "metadata": {
        "colab": {
          "base_uri": "https://localhost:8080/"
        },
        "id": "W3ePDVT9tnVE",
        "outputId": "e62bf51f-1a95-42be-9258-522f6e824776"
      },
      "execution_count": null,
      "outputs": [
        {
          "output_type": "stream",
          "name": "stdout",
          "text": [
            "Enter first number: 123\n",
            "Enter second number: 32\n",
            "Enter third number: 45\n",
            "123 is greatest.\n"
          ]
        }
      ]
    },
    {
      "cell_type": "code",
      "source": [
        "# upto 100 is 0\n",
        "# next 100 is 5 per unit\n",
        "# rest is 10 per unit\n",
        "amt=0\n",
        "nu=int(input(\"Enter the reading: \") )\n",
        "if nu<=100:\n",
        "  amt=0\n",
        "if nu>100:\n",
        "  amt=(nu-100)*5\n",
        "if nu>200:\n",
        "  amt=0+500+(nu-200)*10\n",
        "print(\"Amount to pay is Rs.\", amt)"
      ],
      "metadata": {
        "colab": {
          "base_uri": "https://localhost:8080/"
        },
        "id": "IjwjPPK3xnrI",
        "outputId": "68954177-de06-4ff6-ba48-dea269156506"
      },
      "execution_count": null,
      "outputs": [
        {
          "output_type": "stream",
          "name": "stdout",
          "text": [
            "Enter the reading: 125\n",
            "Amount to pay is Rs. 125\n"
          ]
        }
      ]
    },
    {
      "cell_type": "code",
      "source": [
        "#absolute number\n",
        "num=int(input(\"Enter a number: \"))\n",
        "if num<0:\n",
        "  print(\"Absolute value is \", (num *(-1)))\n",
        "else:\n",
        "  print(\"Absolute value is \", num)"
      ],
      "metadata": {
        "colab": {
          "base_uri": "https://localhost:8080/"
        },
        "id": "t-SCM51A2wdG",
        "outputId": "8e319305-b5d9-4994-e886-ec37b11edde0"
      },
      "execution_count": null,
      "outputs": [
        {
          "output_type": "stream",
          "name": "stdout",
          "text": [
            "Enter a number: -8\n",
            "Absolute value is  8\n"
          ]
        }
      ]
    },
    {
      "cell_type": "code",
      "source": [
        "num=int(input(\"Enter a number: \"))\n",
        "a=abs(num)\n",
        "print(\"Absolute value is \", a)"
      ],
      "metadata": {
        "colab": {
          "base_uri": "https://localhost:8080/"
        },
        "id": "2_d6IRni4X6U",
        "outputId": "d1b57ea3-97f1-48e2-87c4-822a0f969464"
      },
      "execution_count": null,
      "outputs": [
        {
          "output_type": "stream",
          "name": "stdout",
          "text": [
            "Enter a number: -9\n",
            "Absolute value is  9\n"
          ]
        }
      ]
    },
    {
      "cell_type": "code",
      "source": [
        "len=int(input(\"Enter the length of figure: \"))\n",
        "br=int(input(\"Enter the breadth of figure: \"))\n",
        "if len==br:\n",
        "  print(\"\\nThis is a square.\")\n",
        "  print(\"It's area is \", len**2)\n",
        "else:\n",
        "  print(\"\\nThis is a Rectangle.\")\n",
        "  print(\"It's area is \", len*br)"
      ],
      "metadata": {
        "colab": {
          "base_uri": "https://localhost:8080/"
        },
        "id": "1G1R0ctP5T-h",
        "outputId": "ef28d0e3-2e40-4a36-dd21-ee21bda95a4d"
      },
      "execution_count": null,
      "outputs": [
        {
          "output_type": "stream",
          "name": "stdout",
          "text": [
            "Enter the length of figure: 23\n",
            "Enter the breadth of figure: 23\n",
            "\n",
            "This is a square.\n",
            "It's area is  529\n"
          ]
        }
      ]
    },
    {
      "cell_type": "code",
      "source": [
        "#print your name 10 times\n",
        "i=1\n",
        "while i<=10:\n",
        "  print(\"Shivaji\")\n",
        "  i+=1"
      ],
      "metadata": {
        "id": "CaDjjiwP6leq",
        "colab": {
          "base_uri": "https://localhost:8080/"
        },
        "outputId": "6764fb10-9044-40e3-89e5-8a795622441e"
      },
      "execution_count": null,
      "outputs": [
        {
          "output_type": "stream",
          "name": "stdout",
          "text": [
            "Shivaji\n",
            "Shivaji\n",
            "Shivaji\n",
            "Shivaji\n",
            "Shivaji\n",
            "Shivaji\n",
            "Shivaji\n",
            "Shivaji\n",
            "Shivaji\n",
            "Shivaji\n"
          ]
        }
      ]
    },
    {
      "cell_type": "code",
      "source": [
        "i=1\n",
        "while i<=10:\n",
        "  print(i)\n",
        "  i+=1"
      ],
      "metadata": {
        "colab": {
          "base_uri": "https://localhost:8080/"
        },
        "id": "Cuxb0OOa5Y-y",
        "outputId": "671d15e9-9c64-470d-ff75-846df80967fc"
      },
      "execution_count": null,
      "outputs": [
        {
          "output_type": "stream",
          "name": "stdout",
          "text": [
            "1\n",
            "2\n",
            "3\n",
            "4\n",
            "5\n",
            "6\n",
            "7\n",
            "8\n",
            "9\n",
            "10\n"
          ]
        }
      ]
    },
    {
      "cell_type": "code",
      "source": [
        "i=1\n",
        "while i<=10:\n",
        "  print(i, end=\" \")\n",
        "  i+=1"
      ],
      "metadata": {
        "colab": {
          "base_uri": "https://localhost:8080/"
        },
        "id": "JiGSPBWI6HMw",
        "outputId": "049346d6-0f0b-405c-aee4-e31f25ea3052"
      },
      "execution_count": null,
      "outputs": [
        {
          "output_type": "stream",
          "name": "stdout",
          "text": [
            "1 2 3 4 5 6 7 8 9 10 "
          ]
        }
      ]
    },
    {
      "cell_type": "code",
      "source": [
        "#sum of first 10 natural number\n",
        "i=1\n",
        "s=0\n",
        "while(i<=10):\n",
        "  s=s+i\n",
        "  i+=1\n",
        "print(\"The sum is:\",s)"
      ],
      "metadata": {
        "colab": {
          "base_uri": "https://localhost:8080/"
        },
        "id": "51EqiQvB7wzs",
        "outputId": "8fad76cc-af0e-42ea-f695-25cd433cca0d"
      },
      "execution_count": null,
      "outputs": [
        {
          "output_type": "stream",
          "name": "stdout",
          "text": [
            "The sum is: 55\n"
          ]
        }
      ]
    },
    {
      "cell_type": "code",
      "source": [
        "print(\"a\")\n",
        "print(\"b\")"
      ],
      "metadata": {
        "colab": {
          "base_uri": "https://localhost:8080/"
        },
        "id": "GXvO3-Qx8htS",
        "outputId": "39342718-8844-4626-9ab9-6276fc76c355"
      },
      "execution_count": null,
      "outputs": [
        {
          "output_type": "stream",
          "name": "stdout",
          "text": [
            "a\n",
            "b\n"
          ]
        }
      ]
    },
    {
      "cell_type": "code",
      "source": [
        "print(\"a\", end=\" \")\n",
        "print(\"b\")"
      ],
      "metadata": {
        "colab": {
          "base_uri": "https://localhost:8080/"
        },
        "id": "3HNDt6k483q2",
        "outputId": "c47deff4-e2cc-4b86-f4ca-d705dd1e9a70"
      },
      "execution_count": null,
      "outputs": [
        {
          "output_type": "stream",
          "name": "stdout",
          "text": [
            "a b\n"
          ]
        }
      ]
    },
    {
      "cell_type": "code",
      "source": [
        "#print even numbers only\n",
        "i=1\n",
        "while(i<=200):\n",
        "  if(i%2==0):\n",
        "    print(i,end=\" \")\n",
        "  i+=1"
      ],
      "metadata": {
        "colab": {
          "base_uri": "https://localhost:8080/"
        },
        "id": "5g27lrKl87x8",
        "outputId": "e0351e19-9576-453e-bb06-3b97a482549f"
      },
      "execution_count": null,
      "outputs": [
        {
          "output_type": "stream",
          "name": "stdout",
          "text": [
            "2 4 6 8 10 12 14 16 18 20 22 24 26 28 30 32 34 36 38 40 42 44 46 48 50 52 54 56 58 60 62 64 66 68 70 72 74 76 78 80 82 84 86 88 90 92 94 96 98 100 102 104 106 108 110 112 114 116 118 120 122 124 126 128 130 132 134 136 138 140 142 144 146 148 150 152 154 156 158 160 162 164 166 168 170 172 174 176 178 180 182 184 186 188 190 192 194 196 198 200 "
          ]
        }
      ]
    },
    {
      "cell_type": "code",
      "source": [
        "#print the sum of even and odd number\n",
        "i=1\n",
        "se=0\n",
        "so=0\n",
        "while(i<=100):\n",
        "  if(i%2==0):\n",
        "    se=se+i\n",
        "  else:\n",
        "    so=so+i\n",
        "  i=i+1\n",
        "print(\"The sum of even is: \", se)\n",
        "print(\"The sum of odd is: \", so)\n"
      ],
      "metadata": {
        "colab": {
          "base_uri": "https://localhost:8080/"
        },
        "id": "mhLa4Fog9xqb",
        "outputId": "edee137c-2d95-45a8-9fe2-6832d2b707a9"
      },
      "execution_count": null,
      "outputs": [
        {
          "output_type": "stream",
          "name": "stdout",
          "text": [
            "The sum of even is:  2550\n",
            "The sum of odd is:  2500\n"
          ]
        }
      ]
    },
    {
      "cell_type": "code",
      "source": [
        "#table of given number\n",
        "a=int(input(\"Enter a number: \"))\n",
        "i=1\n",
        "print(\"Table of given number is:\")\n",
        "while i<=10:\n",
        "  print(a*i)\n",
        "  i+=1"
      ],
      "metadata": {
        "colab": {
          "base_uri": "https://localhost:8080/"
        },
        "id": "D3-Dm5L-_mxh",
        "outputId": "47c6a61b-1a91-4760-cf80-eef5730334d1"
      },
      "execution_count": null,
      "outputs": [
        {
          "output_type": "stream",
          "name": "stdout",
          "text": [
            "Enter a number: 5\n",
            "Table of given number is:\n",
            "5\n",
            "10\n",
            "15\n",
            "20\n",
            "25\n",
            "30\n",
            "35\n",
            "40\n",
            "45\n",
            "50\n"
          ]
        }
      ]
    },
    {
      "cell_type": "code",
      "source": [
        "a=int(input(\"Enter a number: \"))\n",
        "i=1\n",
        "print(\"Table of given number is:\")\n",
        "while i<=10:\n",
        "  print(a,\"x\",i,\"=\",a*i)\n",
        "  i+=1"
      ],
      "metadata": {
        "colab": {
          "base_uri": "https://localhost:8080/"
        },
        "id": "9GDolTtFBAqx",
        "outputId": "dff40453-6cad-40bf-a11e-bb1c1a114026"
      },
      "execution_count": null,
      "outputs": [
        {
          "output_type": "stream",
          "name": "stdout",
          "text": [
            "Enter a number: 5\n",
            "Table of given number is:\n",
            "5 x 1 = 5\n",
            "5 x 2 = 10\n",
            "5 x 3 = 15\n",
            "5 x 4 = 20\n",
            "5 x 5 = 25\n",
            "5 x 6 = 30\n",
            "5 x 7 = 35\n",
            "5 x 8 = 40\n",
            "5 x 9 = 45\n",
            "5 x 10 = 50\n"
          ]
        }
      ]
    },
    {
      "cell_type": "code",
      "source": [
        "#find the number of factors\n",
        "a=int(input(\"Enter a number: \"))\n",
        "i=1\n",
        "f=0\n",
        "while(i<=a):\n",
        "  if(a%i==0):\n",
        "    f+=1\n",
        "  i+=1\n",
        "print(f)"
      ],
      "metadata": {
        "colab": {
          "base_uri": "https://localhost:8080/"
        },
        "id": "ISL30v4oBfLJ",
        "outputId": "d1c724f9-624f-43dd-9657-ca4614bd075c"
      },
      "execution_count": null,
      "outputs": [
        {
          "output_type": "stream",
          "name": "stdout",
          "text": [
            "Enter a number: 50\n",
            "6\n"
          ]
        }
      ]
    },
    {
      "cell_type": "code",
      "source": [
        "#check prime\n",
        "n=int(input(\"Enter a number: \"))\n",
        "i=1\n",
        "fac=0\n",
        "while i<=n:\n",
        "  if n%i==0:\n",
        "    fac+=1\n",
        "  i+=1\n",
        "if fac==2:\n",
        "  print(\"Prime number\")\n",
        "else:\n",
        "  print(\"Not a prime number\")"
      ],
      "metadata": {
        "id": "pLIcRXqJCQDa",
        "colab": {
          "base_uri": "https://localhost:8080/"
        },
        "outputId": "317e4129-1804-4b39-f587-924b6341406d"
      },
      "execution_count": null,
      "outputs": [
        {
          "output_type": "stream",
          "name": "stdout",
          "text": [
            "Enter a number: 9\n",
            "Not a prime number\n"
          ]
        }
      ]
    },
    {
      "cell_type": "code",
      "source": [
        "#factorial\n",
        "n=int(input(\"Enter a number: \"))\n",
        "f=1\n",
        "while n>0:\n",
        "  f=f*n\n",
        "  n=n-1\n",
        "print(\"The factorial is:\", f)"
      ],
      "metadata": {
        "colab": {
          "base_uri": "https://localhost:8080/"
        },
        "id": "bEQIdxNC93CE",
        "outputId": "65609133-3f57-48d8-ea8d-814dc19a1eb2"
      },
      "execution_count": null,
      "outputs": [
        {
          "output_type": "stream",
          "name": "stdout",
          "text": [
            "Enter a number: 6\n",
            "The factorial is: 720\n"
          ]
        }
      ]
    },
    {
      "cell_type": "code",
      "source": [
        "#sum of digits of a number\n",
        "n=int(input(\"Enter a number: \"))\n",
        "sum=0\n",
        "while n>0:\n",
        "  rem=n%10\n",
        "  sum=sum+rem\n",
        "  n=n//10\n",
        "print(\"The sum of all the digits is: \", sum)"
      ],
      "metadata": {
        "colab": {
          "base_uri": "https://localhost:8080/"
        },
        "id": "UO6qXu4p_XZZ",
        "outputId": "be10595b-be51-4155-8f42-b6d11870427f"
      },
      "execution_count": null,
      "outputs": [
        {
          "output_type": "stream",
          "name": "stdout",
          "text": [
            "Enter a number: 5647\n",
            "The sum of all the digits is:  22\n"
          ]
        }
      ]
    },
    {
      "cell_type": "code",
      "source": [
        "#reverse of a number\n",
        "n=int(input(\"Enter a number:\"))\n",
        "rev=0\n",
        "while n>0:\n",
        "  rem=n%10\n",
        "  rev=rev*10+rem\n",
        "  n=n//10\n",
        "print(\"Reverse is: \", rev)"
      ],
      "metadata": {
        "colab": {
          "base_uri": "https://localhost:8080/"
        },
        "id": "t-jOUR3FDVB-",
        "outputId": "1427578b-7a73-45b1-caeb-c313b214c8db"
      },
      "execution_count": null,
      "outputs": [
        {
          "output_type": "stream",
          "name": "stdout",
          "text": [
            "Enter a number:5649\n",
            "Reverse is:  9465\n"
          ]
        }
      ]
    },
    {
      "cell_type": "code",
      "source": [
        "#pallindrome\n",
        "n=int(input(\"Enter a number: \"))\n",
        "n1=n\n",
        "rev=0\n",
        "while n>0:\n",
        "  rem=n%10\n",
        "  rev=rev*10+rem\n",
        "  n=n//10\n",
        "if n1==rev:\n",
        "  print(\"Number is pallindrome.\")\n",
        "else:\n",
        "  print(\"Not a pallindrome.\")"
      ],
      "metadata": {
        "colab": {
          "base_uri": "https://localhost:8080/"
        },
        "id": "XKtLuvI9GHwi",
        "outputId": "b5c4aac9-cd66-4764-db5f-81c6a9017929"
      },
      "execution_count": null,
      "outputs": [
        {
          "output_type": "stream",
          "name": "stdout",
          "text": [
            "Enter a number: 12321\n",
            "Number is pallindrome.\n"
          ]
        }
      ]
    },
    {
      "cell_type": "code",
      "source": [
        "#armstrong number\n",
        "n=int(input(\"Enter a number: \"))\n",
        "n1=n\n",
        "sum=0\n",
        "while n>0:\n",
        "  rem=n%10\n",
        "  cu=rem**3\n",
        "  sum=sum+cu\n",
        "  n=n//10\n",
        "if sum==n1:\n",
        "  print(\"Armstrong number.\")\n",
        "else:\n",
        "  print(\"Not a armstrong number.\")"
      ],
      "metadata": {
        "colab": {
          "base_uri": "https://localhost:8080/"
        },
        "id": "IoXtFte9HmvN",
        "outputId": "dd1e82c5-13d1-450a-c894-907a41da1c54"
      },
      "execution_count": null,
      "outputs": [
        {
          "output_type": "stream",
          "name": "stdout",
          "text": [
            "Enter a number: 153\n",
            "Armstrong number.\n"
          ]
        }
      ]
    },
    {
      "cell_type": "code",
      "source": [
        "\n"
      ],
      "metadata": {
        "id": "D5cVCN3xJWlG"
      },
      "execution_count": null,
      "outputs": []
    }
  ]
}