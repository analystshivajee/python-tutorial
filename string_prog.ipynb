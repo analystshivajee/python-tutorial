{
  "cells": [
    {
      "cell_type": "markdown",
      "metadata": {
        "id": "view-in-github",
        "colab_type": "text"
      },
      "source": [
        "<a href=\"https://colab.research.google.com/github/analystshivajee/python-tutorial/blob/main/string_prog.ipynb\" target=\"_parent\"><img src=\"https://colab.research.google.com/assets/colab-badge.svg\" alt=\"Open In Colab\"/></a>"
      ]
    },
    {
      "cell_type": "code",
      "execution_count": null,
      "metadata": {
        "colab": {
          "base_uri": "https://localhost:8080/"
        },
        "id": "VcL6SN2l2fC-",
        "outputId": "ede8423d-466f-41df-836f-a3720a1241ef"
      },
      "outputs": [
        {
          "name": "stdout",
          "output_type": "stream",
          "text": [
            "This is a string in python\n"
          ]
        }
      ],
      "source": [
        "str1='This is a string in python'\n",
        "print(str1)"
      ]
    },
    {
      "cell_type": "markdown",
      "metadata": {
        "id": "ukl17eFZ2vVQ"
      },
      "source": [
        "Python - String\n",
        "In Python, string is an immutable sequence data type. It is the sequence of Unicode characters wrapped inside single, double, or triple quotes.\n",
        "\n",
        "'This is a string in Python' # string in single quotes\n",
        "\"This is a string in Python\" # string in double quotes\n",
        "'''This is a string in Python''' # string in triple quotes\n",
        "\"\"\"This is a string in Python\"\"\" # string in triple double-quotes\n",
        "\n"
      ]
    },
    {
      "cell_type": "code",
      "execution_count": null,
      "metadata": {
        "colab": {
          "base_uri": "https://localhost:8080/"
        },
        "id": "wBGjUUNq3F-X",
        "outputId": "094021b0-bae2-4ba7-e8a9-525f2d9f97cb"
      },
      "outputs": [
        {
          "name": "stdout",
          "output_type": "stream",
          "text": [
            "This is \n",
            "the first multi-line \n",
            "string\n"
          ]
        }
      ],
      "source": [
        "str1='''This is\n",
        "the first multi-line\n",
        "string'''\n",
        "print(str1)"
      ]
    },
    {
      "cell_type": "code",
      "execution_count": null,
      "metadata": {
        "colab": {
          "base_uri": "https://localhost:8080/"
        },
        "id": "7VkOSYar3XZM",
        "outputId": "c3579f32-d196-4e39-b200-cac74fe35cd2"
      },
      "outputs": [
        {
          "name": "stdout",
          "output_type": "stream",
          "text": [
            "This is \n",
            "the first multi-line \n",
            "string\n"
          ]
        }
      ],
      "source": [
        "str1=\"\"\"This is\n",
        "the first multi-line\n",
        "string\"\"\"\n",
        "print(str1)"
      ]
    },
    {
      "cell_type": "code",
      "execution_count": null,
      "metadata": {
        "colab": {
          "base_uri": "https://localhost:8080/"
        },
        "id": "dFCJ-dfd388E",
        "outputId": "4f2cbdbe-d5b2-4a9d-f657-6855b1f79bd9"
      },
      "outputs": [
        {
          "name": "stdout",
          "output_type": "stream",
          "text": [
            "5\n"
          ]
        }
      ],
      "source": [
        "greet='hello'\n",
        "n=len(greet)\n",
        "print(n)"
      ]
    },
    {
      "cell_type": "markdown",
      "metadata": {
        "id": "-6MOtzGp2lat"
      },
      "source": [
        "A sequence is defined as an ordered collection of items. Hence, a string is an ordered collection of characters. The sequence uses an index, starting with zero to fetch a certain item (a character in case of a string) from it.\n"
      ]
    },
    {
      "cell_type": "code",
      "execution_count": null,
      "metadata": {
        "colab": {
          "base_uri": "https://localhost:8080/"
        },
        "id": "oFQPOy1t4Uhx",
        "outputId": "9848133e-4257-4b06-e51d-3ac350757cd1"
      },
      "outputs": [
        {
          "name": "stdout",
          "output_type": "stream",
          "text": [
            "h\n",
            "e\n",
            "l\n",
            "l\n",
            "o\n"
          ]
        }
      ],
      "source": [
        "greet='hello'\n",
        "print(greet[0])\n",
        "print(greet[1])\n",
        "print(greet[2])\n",
        "print(greet[3])\n",
        "print(greet[4])"
      ]
    },
    {
      "cell_type": "code",
      "execution_count": null,
      "metadata": {
        "colab": {
          "base_uri": "https://localhost:8080/"
        },
        "id": "I3n56s254lyD",
        "outputId": "415ca2b9-e450-47fc-8dbb-4fea9ac2116b"
      },
      "outputs": [
        {
          "name": "stdout",
          "output_type": "stream",
          "text": [
            "h\n",
            "e\n",
            "l\n",
            "l\n",
            "o\n",
            "h\n"
          ]
        }
      ],
      "source": [
        "greet='hello'\n",
        "print(greet[-5])\n",
        "print(greet[-4])\n",
        "print(greet[-3])\n",
        "print(greet[-2])\n",
        "print(greet[-1])\n",
        "print(greet[0])"
      ]
    },
    {
      "cell_type": "markdown",
      "metadata": {
        "id": "oN01HlK05OpC"
      },
      "source": [
        "The string is an immutable object. Hence, it is not possible to modify it. The attempt to assign different characters at a certain index results in errors."
      ]
    },
    {
      "cell_type": "code",
      "execution_count": null,
      "metadata": {
        "colab": {
          "base_uri": "https://localhost:8080/"
        },
        "id": "PTYL4e0v5PzB",
        "outputId": "956f6841-0219-4542-c41d-a5c9506e9bea"
      },
      "outputs": [
        {
          "name": "stdout",
          "output_type": "stream",
          "text": [
            "a\n"
          ]
        }
      ],
      "source": [
        "greet='hello'\n",
        "greet='a'\n",
        "print(greet)"
      ]
    },
    {
      "cell_type": "code",
      "execution_count": null,
      "metadata": {
        "colab": {
          "base_uri": "https://localhost:8080/"
        },
        "id": "4qVAes2X41ht",
        "outputId": "7493931a-ea72-4fcc-ede9-00d554535dc4"
      },
      "outputs": [
        {
          "name": "stdout",
          "output_type": "stream",
          "text": [
            "<class 'str'>\n"
          ]
        }
      ],
      "source": [
        "s=str(100)\n",
        "print(type(s))"
      ]
    },
    {
      "cell_type": "code",
      "execution_count": null,
      "metadata": {
        "colab": {
          "base_uri": "https://localhost:8080/"
        },
        "id": "uj6-azRV5wIC",
        "outputId": "818cb347-b2cf-4d3d-9f48-56e40daf3c3e"
      },
      "outputs": [
        {
          "name": "stdout",
          "output_type": "stream",
          "text": [
            "100\n"
          ]
        }
      ],
      "source": [
        "print(s)"
      ]
    },
    {
      "cell_type": "code",
      "execution_count": null,
      "metadata": {
        "colab": {
          "base_uri": "https://localhost:8080/"
        },
        "id": "oo4byLUi5zFe",
        "outputId": "48c2be8d-cfcb-46d5-cd8c-674d19b604a5"
      },
      "outputs": [
        {
          "name": "stdout",
          "output_type": "stream",
          "text": [
            "-10\n"
          ]
        }
      ],
      "source": [
        "s=str(-10)\n",
        "print(s)"
      ]
    },
    {
      "cell_type": "code",
      "execution_count": null,
      "metadata": {
        "colab": {
          "base_uri": "https://localhost:8080/"
        },
        "id": "mqj7UsBn58CI",
        "outputId": "d857b9a7-2547-4c35-f24f-8f0df8ac7133"
      },
      "outputs": [
        {
          "name": "stdout",
          "output_type": "stream",
          "text": [
            "True\n"
          ]
        }
      ],
      "source": [
        "s=str(True)\n",
        "print(s)"
      ]
    },
    {
      "cell_type": "code",
      "execution_count": null,
      "metadata": {
        "colab": {
          "base_uri": "https://localhost:8080/"
        },
        "id": "y6zpPZ596A25",
        "outputId": "bc8fe3dc-b688-4909-c9ae-79787aa731c5"
      },
      "outputs": [
        {
          "name": "stdout",
          "output_type": "stream",
          "text": [
            "New String Hello world!\n"
          ]
        }
      ],
      "source": [
        "a='hello world!'\n",
        "print('New String',a.capitalize())"
      ]
    },
    {
      "cell_type": "markdown",
      "metadata": {
        "id": "f9rtQR2t6ncS"
      },
      "source": [
        "Python capitalize() Method\n",
        "The capitalize() method returns the copy of the string with its first character capitalized and the rest of the letters lowercased.\n",
        "\n",
        "\n",
        "Syntax:\n",
        "string.capitalize()"
      ]
    },
    {
      "cell_type": "code",
      "execution_count": null,
      "metadata": {
        "colab": {
          "base_uri": "https://localhost:8080/"
        },
        "id": "wJ7hA4tn6ie6",
        "outputId": "9e711d65-7dca-4a65-e4e0-4b46fd332bdb"
      },
      "outputs": [
        {
          "name": "stdout",
          "output_type": "stream",
          "text": [
            "New String Hello World!\n"
          ]
        }
      ],
      "source": [
        "a='hello world!'\n",
        "print('New String',a.title())"
      ]
    },
    {
      "cell_type": "markdown",
      "metadata": {
        "id": "Esq5fDo47Enm"
      },
      "source": [
        "Python String count() Method\n",
        "The count() method searches (case-sensitive) the specified substring in the given string and returns an integer indicating occurrences of the substring. By default, the counting begins from 0 index till the end of the string."
      ]
    },
    {
      "cell_type": "code",
      "execution_count": null,
      "metadata": {
        "colab": {
          "base_uri": "https://localhost:8080/"
        },
        "id": "Mmx_W09i63Nn",
        "outputId": "5d1aafe6-2833-4c5c-b7b0-0c2187671990"
      },
      "outputs": [
        {
          "name": "stdout",
          "output_type": "stream",
          "text": [
            "Madrid occurence =  1\n"
          ]
        }
      ],
      "source": [
        "mystr='Madrid is a Best institute for Data Science Learning'\n",
        "total=mystr.count('Madrid')\n",
        "print(\"Madrid occurence = \", total)"
      ]
    },
    {
      "cell_type": "code",
      "execution_count": null,
      "metadata": {
        "colab": {
          "base_uri": "https://localhost:8080/"
        },
        "id": "jv-jtuBE7rzx",
        "outputId": "40ebd567-de5c-43fe-e213-cde1b8ecc61d"
      },
      "outputs": [
        {
          "name": "stdout",
          "output_type": "stream",
          "text": [
            "madrid occurence =  0\n"
          ]
        }
      ],
      "source": [
        "total=mystr.count('madrid')\n",
        "print(\"madrid occurence = \", total)"
      ]
    },
    {
      "cell_type": "markdown",
      "metadata": {
        "id": "xOlKrmMC8Bh6"
      },
      "source": [
        "Python String endswith() Method\n",
        "The endswith() function returns True if a string ends with the specified suffix (case-sensitive), otherwise returns False."
      ]
    },
    {
      "cell_type": "code",
      "execution_count": null,
      "metadata": {
        "colab": {
          "base_uri": "https://localhost:8080/"
        },
        "id": "otaqT9eI78A9",
        "outputId": "88a4f71b-2f59-443b-aa74-ae6550b1d296"
      },
      "outputs": [
        {
          "name": "stdout",
          "output_type": "stream",
          "text": [
            "True\n"
          ]
        }
      ],
      "source": [
        "mystr='Python is a programming language.'\n",
        "print(mystr.endswith('.'))"
      ]
    },
    {
      "cell_type": "code",
      "execution_count": null,
      "metadata": {
        "colab": {
          "base_uri": "https://localhost:8080/"
        },
        "id": "ET47yQWF8fe-",
        "outputId": "48f5d3fc-d53e-46a3-ce55-43290af6eb35"
      },
      "outputs": [
        {
          "name": "stdout",
          "output_type": "stream",
          "text": [
            "True\n"
          ]
        }
      ],
      "source": [
        "print(mystr.endswith('language.'))"
      ]
    },
    {
      "cell_type": "code",
      "execution_count": null,
      "metadata": {
        "colab": {
          "base_uri": "https://localhost:8080/"
        },
        "id": "DgbUloMs8kPt",
        "outputId": "ea0dfd46-482a-43b6-b4f6-924cc92a80f3"
      },
      "outputs": [
        {
          "name": "stdout",
          "output_type": "stream",
          "text": [
            "True\n"
          ]
        }
      ],
      "source": [
        "print(mystr.endswith('age.'))"
      ]
    },
    {
      "cell_type": "code",
      "execution_count": null,
      "metadata": {
        "colab": {
          "base_uri": "https://localhost:8080/"
        },
        "id": "oN2TP9Bk8nDW",
        "outputId": "a5554e78-aadc-4db7-d3ae-67217a5897aa"
      },
      "outputs": [
        {
          "name": "stdout",
          "output_type": "stream",
          "text": [
            "True\n"
          ]
        }
      ],
      "source": [
        "print(mystr.endswith('programming language.'))"
      ]
    },
    {
      "cell_type": "code",
      "execution_count": null,
      "metadata": {
        "colab": {
          "base_uri": "https://localhost:8080/"
        },
        "id": "yINUtiJi8p9l",
        "outputId": "c82d665d-7afe-46b2-f99c-fce2991836fc"
      },
      "outputs": [
        {
          "name": "stdout",
          "output_type": "stream",
          "text": [
            "False\n"
          ]
        }
      ],
      "source": [
        "print(mystr.endswith('age'))"
      ]
    },
    {
      "cell_type": "markdown",
      "metadata": {
        "id": "-9pTdW_Z9Vix"
      },
      "source": [
        "Python String find() Method\n",
        "The find() method returns the index of the first occurence of a substring in the given string (case-sensitive). If the substring is not found it returns -1."
      ]
    },
    {
      "cell_type": "code",
      "execution_count": null,
      "metadata": {
        "colab": {
          "base_uri": "https://localhost:8080/"
        },
        "id": "WL4nayDc8sSy",
        "outputId": "8ce108d2-5c1a-4f08-e4ab-85b0d1ec95f7"
      },
      "outputs": [
        {
          "name": "stdout",
          "output_type": "stream",
          "text": [
            "Index of 'H':  0\n"
          ]
        }
      ],
      "source": [
        "greet='Hello World!'\n",
        "print(\"Index of 'H': \", greet.find('H'))"
      ]
    },
    {
      "cell_type": "code",
      "execution_count": null,
      "metadata": {
        "colab": {
          "base_uri": "https://localhost:8080/"
        },
        "id": "CUSFPsO79nht",
        "outputId": "5fe72c9f-4de3-41a0-ac14-4e19c97de28d"
      },
      "outputs": [
        {
          "name": "stdout",
          "output_type": "stream",
          "text": [
            "Index of 'h':  -1\n"
          ]
        }
      ],
      "source": [
        "print(\"Index of 'h': \", greet.find('h'))"
      ]
    },
    {
      "cell_type": "code",
      "execution_count": null,
      "metadata": {
        "colab": {
          "base_uri": "https://localhost:8080/"
        },
        "id": "nr3sMims9sBj",
        "outputId": "a2e73b89-d123-418a-a4d7-dce6df2bbbce"
      },
      "outputs": [
        {
          "name": "stdout",
          "output_type": "stream",
          "text": [
            "Index of 'e':  1\n"
          ]
        }
      ],
      "source": [
        "print(\"Index of 'e': \", greet.find('e'))"
      ]
    },
    {
      "cell_type": "code",
      "execution_count": null,
      "metadata": {
        "colab": {
          "base_uri": "https://localhost:8080/"
        },
        "id": "c5uHPG_x9wLK",
        "outputId": "24a513f8-21ac-4229-ef67-c017df9706f5"
      },
      "outputs": [
        {
          "name": "stdout",
          "output_type": "stream",
          "text": [
            "Index of 'World':  6\n"
          ]
        }
      ],
      "source": [
        "print(\"Index of 'World': \", greet.find('World'))"
      ]
    },
    {
      "cell_type": "markdown",
      "metadata": {
        "id": "G_PjJNuC-VjG"
      },
      "source": [
        "Python String index() Method\n",
        "The index() method returns the index of the first occurence of a substring in the given string. It is same as the find() method except that if a substring is not found, then it raises an exception."
      ]
    },
    {
      "cell_type": "code",
      "execution_count": null,
      "metadata": {
        "colab": {
          "base_uri": "https://localhost:8080/"
        },
        "id": "0czpeiyO92Gi",
        "outputId": "6c6e65f2-37f9-41cb-f2e2-dcebfb8f3793"
      },
      "outputs": [
        {
          "name": "stdout",
          "output_type": "stream",
          "text": [
            "Index of 'World':  6\n"
          ]
        }
      ],
      "source": [
        "print(\"Index of 'World': \", greet.index('World'))"
      ]
    },
    {
      "cell_type": "code",
      "execution_count": null,
      "metadata": {
        "colab": {
          "base_uri": "https://localhost:8080/",
          "height": 147
        },
        "id": "OJVhKFK_-bSt",
        "outputId": "e6ede451-34f2-4f5b-9f2c-76efbaef4069"
      },
      "outputs": [
        {
          "ename": "ValueError",
          "evalue": "substring not found",
          "output_type": "error",
          "traceback": [
            "\u001b[0;31m---------------------------------------------------------------------------\u001b[0m",
            "\u001b[0;31mValueError\u001b[0m                                Traceback (most recent call last)",
            "\u001b[0;32m<ipython-input-30-a0d55815a2e8>\u001b[0m in \u001b[0;36m<cell line: 1>\u001b[0;34m()\u001b[0m\n\u001b[0;32m----> 1\u001b[0;31m \u001b[0mprint\u001b[0m\u001b[0;34m(\u001b[0m\u001b[0;34m\"Index of 'w': \"\u001b[0m\u001b[0;34m,\u001b[0m \u001b[0mgreet\u001b[0m\u001b[0;34m.\u001b[0m\u001b[0mindex\u001b[0m\u001b[0;34m(\u001b[0m\u001b[0;34m'w'\u001b[0m\u001b[0;34m)\u001b[0m\u001b[0;34m)\u001b[0m\u001b[0;34m\u001b[0m\u001b[0;34m\u001b[0m\u001b[0m\n\u001b[0m",
            "\u001b[0;31mValueError\u001b[0m: substring not found"
          ]
        }
      ],
      "source": [
        "print(\"Index of 'w': \", greet.index('w'))"
      ]
    },
    {
      "cell_type": "markdown",
      "metadata": {
        "id": "Jacongqr_NeO"
      },
      "source": [
        "Python String isalnum() Method\n",
        "The isalnum() method returns True if all characters in the string are alphanumeric (either alphabets or numbers). If not, it returns False.\n",
        "\n",
        "Syntax:\n",
        "str.isalnum()"
      ]
    },
    {
      "cell_type": "code",
      "execution_count": null,
      "metadata": {
        "colab": {
          "base_uri": "https://localhost:8080/"
        },
        "id": "P_RnqqOt-h64",
        "outputId": "88663bcb-473f-46d1-9d48-808d9dbc1e58"
      },
      "outputs": [
        {
          "name": "stdout",
          "output_type": "stream",
          "text": [
            "True\n"
          ]
        }
      ],
      "source": [
        "mystr='Hello123'\n",
        "print(mystr.isalnum())"
      ]
    },
    {
      "cell_type": "code",
      "execution_count": null,
      "metadata": {
        "colab": {
          "base_uri": "https://localhost:8080/"
        },
        "id": "-sS66SaK_Zsl",
        "outputId": "c3bf05fd-1a96-4a1b-c59d-6ced8c8e490c"
      },
      "outputs": [
        {
          "name": "stdout",
          "output_type": "stream",
          "text": [
            "True\n"
          ]
        }
      ],
      "source": [
        "mystr='123'\n",
        "print(mystr.isalnum())"
      ]
    },
    {
      "cell_type": "code",
      "execution_count": null,
      "metadata": {
        "colab": {
          "base_uri": "https://localhost:8080/"
        },
        "id": "B1d5OE4c_fLj",
        "outputId": "856f3d67-ff2f-4286-c48a-a6aa7c542a51"
      },
      "outputs": [
        {
          "name": "stdout",
          "output_type": "stream",
          "text": [
            "True\n"
          ]
        }
      ],
      "source": [
        "mystr='Madrid'\n",
        "print(mystr.isalnum())"
      ]
    },
    {
      "cell_type": "code",
      "execution_count": null,
      "metadata": {
        "colab": {
          "base_uri": "https://localhost:8080/"
        },
        "id": "g2-O_yAo_ipW",
        "outputId": "2b3c4ceb-462c-4089-b055-be98e22712f4"
      },
      "outputs": [
        {
          "name": "stdout",
          "output_type": "stream",
          "text": [
            "False\n"
          ]
        }
      ],
      "source": [
        "mystr='Hello 123'\n",
        "print(mystr.isalnum())"
      ]
    },
    {
      "cell_type": "code",
      "execution_count": null,
      "metadata": {
        "colab": {
          "base_uri": "https://localhost:8080/"
        },
        "id": "kkUduunx_k_E",
        "outputId": "b4fc7d15-eff9-4355-de37-32af8ec467b1"
      },
      "outputs": [
        {
          "name": "stdout",
          "output_type": "stream",
          "text": [
            "False\n"
          ]
        }
      ],
      "source": [
        "mystr='#Hello123'\n",
        "print(mystr.isalnum())"
      ]
    },
    {
      "cell_type": "markdown",
      "metadata": {
        "id": "Wep3U0hxAW3x"
      },
      "source": [
        "Python String isdigit() Method\n",
        "The isdigit() method returns True if all characters in a string are digits or Unicode char of a digit. If not, it returns False.\n",
        "\n",
        "\n",
        "str.isdigit()"
      ]
    },
    {
      "cell_type": "code",
      "execution_count": null,
      "metadata": {
        "colab": {
          "base_uri": "https://localhost:8080/"
        },
        "id": "o8yHVpPi_oqr",
        "outputId": "590a2b55-e45a-47a9-bd70-337f62b335a0"
      },
      "outputs": [
        {
          "name": "stdout",
          "output_type": "stream",
          "text": [
            "True\n"
          ]
        }
      ],
      "source": [
        "mystr='12345'\n",
        "print(mystr.isdigit())"
      ]
    },
    {
      "cell_type": "code",
      "execution_count": null,
      "metadata": {
        "colab": {
          "base_uri": "https://localhost:8080/"
        },
        "id": "yXqKRe7FAf9_",
        "outputId": "c484c2d5-d648-4e9e-fa70-097d590419e9"
      },
      "outputs": [
        {
          "name": "stdout",
          "output_type": "stream",
          "text": [
            "False\n"
          ]
        }
      ],
      "source": [
        "mystr='12.5'\n",
        "print(mystr.isdigit())"
      ]
    },
    {
      "cell_type": "code",
      "execution_count": null,
      "metadata": {
        "colab": {
          "base_uri": "https://localhost:8080/"
        },
        "id": "fN5SyBluAndn",
        "outputId": "557a5fcc-c49e-4f1c-d118-0ce61f11b043"
      },
      "outputs": [
        {
          "name": "stdout",
          "output_type": "stream",
          "text": [
            "False\n"
          ]
        }
      ],
      "source": [
        "mystr='str'\n",
        "print(mystr.isdigit())"
      ]
    },
    {
      "cell_type": "code",
      "execution_count": null,
      "metadata": {
        "colab": {
          "base_uri": "https://localhost:8080/"
        },
        "id": "7kMsfJruAz20",
        "outputId": "90c05311-168e-49f6-a75e-65aa46560188"
      },
      "outputs": [
        {
          "name": "stdout",
          "output_type": "stream",
          "text": [
            "a\n"
          ]
        }
      ],
      "source": [
        "print('a')"
      ]
    },
    {
      "cell_type": "markdown",
      "metadata": {
        "id": "NKI2K0Q39YEi"
      },
      "source": [
        "Python String islower() Method\n",
        "-------------------------------\n",
        "The islower() method checks whether all the characters of a given string are lowercased or not. It returns True if all characters are lowercased and False even if one character is uppercase.\n",
        "\n",
        "It returns False if a string contains only symbols and numbers, but returns True if symbols or numbers are with lower case string.\n",
        "\n",
        "Syntax:\n",
        "str.islower()"
      ]
    },
    {
      "cell_type": "code",
      "execution_count": null,
      "metadata": {
        "colab": {
          "base_uri": "https://localhost:8080/"
        },
        "id": "As_rbVFA6TSU",
        "outputId": "7b1a8b19-3953-4015-fdd6-40caea200268"
      },
      "outputs": [
        {
          "data": {
            "text/plain": [
              "True"
            ]
          },
          "execution_count": 5,
          "metadata": {},
          "output_type": "execute_result"
        }
      ],
      "source": [
        "mystr='hello world'\n",
        "mystr.islower()"
      ]
    },
    {
      "cell_type": "code",
      "execution_count": null,
      "metadata": {
        "colab": {
          "base_uri": "https://localhost:8080/"
        },
        "id": "GFprN_R99mce",
        "outputId": "40139847-7947-413f-d25e-75e9de6ebf40"
      },
      "outputs": [
        {
          "data": {
            "text/plain": [
              "False"
            ]
          },
          "execution_count": 6,
          "metadata": {},
          "output_type": "execute_result"
        }
      ],
      "source": [
        "mystr='hello World'\n",
        "mystr.islower()"
      ]
    },
    {
      "cell_type": "code",
      "execution_count": null,
      "metadata": {
        "colab": {
          "base_uri": "https://localhost:8080/"
        },
        "id": "f7F1EVmN9qDk",
        "outputId": "5a1454d7-12b3-4a27-8895-c3f04591601d"
      },
      "outputs": [
        {
          "data": {
            "text/plain": [
              "True"
            ]
          },
          "execution_count": 7,
          "metadata": {},
          "output_type": "execute_result"
        }
      ],
      "source": [
        "mystr='hello123'\n",
        "mystr.islower()"
      ]
    },
    {
      "cell_type": "code",
      "execution_count": null,
      "metadata": {
        "colab": {
          "base_uri": "https://localhost:8080/"
        },
        "id": "fdBdoQhY9tCe",
        "outputId": "ce1f905c-54ea-4bcc-d1d0-b28288a5d927"
      },
      "outputs": [
        {
          "data": {
            "text/plain": [
              "True"
            ]
          },
          "execution_count": 8,
          "metadata": {},
          "output_type": "execute_result"
        }
      ],
      "source": [
        "mystr='hello@1.23'\n",
        "mystr.islower()"
      ]
    },
    {
      "cell_type": "markdown",
      "metadata": {
        "id": "FRQyZ7_M_NON"
      },
      "source": [
        "Python String istitle() Method\n",
        "The istitle() method checks whether each word's first character is upper case and the rest are in lower case or not. It returns True if a string is titlecased; otherwise, it returns False. The symbols and numbers are ignored.\n",
        "\n",
        "str.istitle()"
      ]
    },
    {
      "cell_type": "code",
      "execution_count": null,
      "metadata": {
        "colab": {
          "base_uri": "https://localhost:8080/"
        },
        "id": "TXkj20vf9xKd",
        "outputId": "25e253b7-23db-46f1-c778-34d91374550a"
      },
      "outputs": [
        {
          "data": {
            "text/plain": [
              "True"
            ]
          },
          "execution_count": 9,
          "metadata": {},
          "output_type": "execute_result"
        }
      ],
      "source": [
        "greet='Hello World'\n",
        "greet.istitle()"
      ]
    },
    {
      "cell_type": "code",
      "execution_count": null,
      "metadata": {
        "colab": {
          "base_uri": "https://localhost:8080/"
        },
        "id": "oLQFGfpB_ZZi",
        "outputId": "8e39257b-ba2f-4dd0-cff9-9bce7c5e3fab"
      },
      "outputs": [
        {
          "data": {
            "text/plain": [
              "False"
            ]
          },
          "execution_count": 10,
          "metadata": {},
          "output_type": "execute_result"
        }
      ],
      "source": [
        "greet='Hello WORLD'\n",
        "greet.istitle()"
      ]
    },
    {
      "cell_type": "code",
      "execution_count": null,
      "metadata": {
        "colab": {
          "base_uri": "https://localhost:8080/"
        },
        "id": "JzsvsMhs_lvM",
        "outputId": "2aad70a8-9e99-4276-a80c-4cd188e8cf63"
      },
      "outputs": [
        {
          "data": {
            "text/plain": [
              "False"
            ]
          },
          "execution_count": 11,
          "metadata": {},
          "output_type": "execute_result"
        }
      ],
      "source": [
        "greet='HelloWorld'\n",
        "greet.istitle()"
      ]
    },
    {
      "cell_type": "code",
      "execution_count": null,
      "metadata": {
        "colab": {
          "base_uri": "https://localhost:8080/"
        },
        "id": "1WTkgqoC_odC",
        "outputId": "aae23922-60cd-4d03-da16-381b48a00d17"
      },
      "outputs": [
        {
          "data": {
            "text/plain": [
              "True"
            ]
          },
          "execution_count": 12,
          "metadata": {},
          "output_type": "execute_result"
        }
      ],
      "source": [
        "greet='Python Is A Programming Language'\n",
        "greet.istitle()"
      ]
    },
    {
      "cell_type": "markdown",
      "metadata": {
        "id": "ZQvGehKMAFDM"
      },
      "source": [
        "Python String isupper() Method\n",
        "The isupper() method checks whether all the characters of a given string are uppercase or not. It returns True if all characters are uppercase and False even if one character is not in uppercase.\n",
        "\n",
        "Symblos and numbers are not affected by this function\n",
        "\n",
        "Syntax:\n",
        "str.isupper()"
      ]
    },
    {
      "cell_type": "code",
      "execution_count": null,
      "metadata": {
        "colab": {
          "base_uri": "https://localhost:8080/"
        },
        "id": "xY2Y_hru_wD9",
        "outputId": "2ffb778e-1417-4f9c-cded-70e26e914e1f"
      },
      "outputs": [
        {
          "data": {
            "text/plain": [
              "False"
            ]
          },
          "execution_count": 13,
          "metadata": {},
          "output_type": "execute_result"
        }
      ],
      "source": [
        "greet='HELLO WORLD'\n",
        "greet.istitle()"
      ]
    },
    {
      "cell_type": "code",
      "execution_count": null,
      "metadata": {
        "colab": {
          "base_uri": "https://localhost:8080/"
        },
        "id": "HwQypCDHAQsy",
        "outputId": "b7f1af70-f74f-4a37-d8e2-771ed77c2530"
      },
      "outputs": [
        {
          "data": {
            "text/plain": [
              "True"
            ]
          },
          "execution_count": 14,
          "metadata": {},
          "output_type": "execute_result"
        }
      ],
      "source": [
        "greet='HELLO WORLD'\n",
        "greet.isupper()"
      ]
    },
    {
      "cell_type": "code",
      "execution_count": null,
      "metadata": {
        "colab": {
          "base_uri": "https://localhost:8080/"
        },
        "id": "5F15h0PIAawo",
        "outputId": "a63b0296-6aee-4147-d689-ff0699948107"
      },
      "outputs": [
        {
          "data": {
            "text/plain": [
              "True"
            ]
          },
          "execution_count": 15,
          "metadata": {},
          "output_type": "execute_result"
        }
      ],
      "source": [
        "greet='PYTHON IS #1'\n",
        "greet.isupper()"
      ]
    },
    {
      "cell_type": "markdown",
      "metadata": {
        "id": "2a-Yy-9QBIEZ"
      },
      "source": [
        "Python String lower() Method\n",
        "The lower() method returns the copy of the original string wherein all the characters are converted to lowercase. If no uppercase characters present, it returns the original string. Symbols and numbers remain unaffected by this function.\n",
        "\n",
        "Syntax:\n",
        "str.lower()"
      ]
    },
    {
      "cell_type": "code",
      "execution_count": null,
      "metadata": {
        "colab": {
          "base_uri": "https://localhost:8080/"
        },
        "id": "JsJonP2iAp7Z",
        "outputId": "e96ac26a-b436-4096-af72-ec7dd7d59573"
      },
      "outputs": [
        {
          "name": "stdout",
          "output_type": "stream",
          "text": [
            "python is #1\n"
          ]
        }
      ],
      "source": [
        "greet='PYTHON IS #1'\n",
        "print(greet.lower())"
      ]
    },
    {
      "cell_type": "code",
      "execution_count": null,
      "metadata": {
        "colab": {
          "base_uri": "https://localhost:8080/"
        },
        "id": "v1Peo9lEBSG2",
        "outputId": "bddb514f-d832-4bb0-a153-157dc5b800f5"
      },
      "outputs": [
        {
          "name": "stdout",
          "output_type": "stream",
          "text": [
            "24\n"
          ]
        }
      ],
      "source": [
        "a='hi hi hi hi hi hi hi hi hi'\n",
        "print(a.rfind('h'))"
      ]
    },
    {
      "cell_type": "markdown",
      "metadata": {
        "id": "ptciEu_JClHo"
      },
      "source": [
        "Python String lstrip() Method\n",
        "The lstrip() method returns a copy of the string by removing leading characters specified as an argument. By default, it removes leading whitespaces if no argument passed.\n",
        "\n",
        "Leading characters occur at the start of the string (leftmost part of the string).\n",
        "\n",
        "Syntax:\n",
        "str.lstrip(characters)"
      ]
    },
    {
      "cell_type": "code",
      "execution_count": null,
      "metadata": {
        "colab": {
          "base_uri": "https://localhost:8080/",
          "height": 109
        },
        "id": "GGnDdua9CFjl",
        "outputId": "53f0c95d-323e-493a-89c8-9852d908f2a2"
      },
      "outputs": [
        {
          "name": "stdout",
          "output_type": "stream",
          "text": [
            "      Hello World      \n",
            "Hello World      \n",
            "      Hello World\n",
            "Hello World\n"
          ]
        },
        {
          "data": {
            "application/vnd.google.colaboratory.intrinsic+json": {
              "type": "string"
            },
            "text/plain": [
              "'Hello World      '"
            ]
          },
          "execution_count": 20,
          "metadata": {},
          "output_type": "execute_result"
        }
      ],
      "source": [
        "mystr='      Hello World      '\n",
        "print(mystr)\n",
        "print(mystr.lstrip())\n",
        "print(mystr.rstrip())\n",
        "print(mystr.strip())\n",
        "mystr.lstrip()"
      ]
    },
    {
      "cell_type": "code",
      "execution_count": null,
      "metadata": {
        "colab": {
          "base_uri": "https://localhost:8080/",
          "height": 36
        },
        "id": "pDoHYHkDDII5",
        "outputId": "6fea3741-7d50-480e-cb12-68a9864b8a5b"
      },
      "outputs": [
        {
          "data": {
            "application/vnd.google.colaboratory.intrinsic+json": {
              "type": "string"
            },
            "text/plain": [
              "'**********HELLO*********'"
            ]
          },
          "execution_count": 22,
          "metadata": {},
          "output_type": "execute_result"
        }
      ],
      "source": [
        "s=\"**********HELLO*********\"\n",
        "s.lstrip()"
      ]
    },
    {
      "cell_type": "code",
      "execution_count": null,
      "metadata": {
        "colab": {
          "base_uri": "https://localhost:8080/",
          "height": 36
        },
        "id": "Nnm1pUIgD8xA",
        "outputId": "e3cbb3cd-86b9-4c66-cb41-c15724b0db2b"
      },
      "outputs": [
        {
          "data": {
            "application/vnd.google.colaboratory.intrinsic+json": {
              "type": "string"
            },
            "text/plain": [
              "'HELLO*********'"
            ]
          },
          "execution_count": 23,
          "metadata": {},
          "output_type": "execute_result"
        }
      ],
      "source": [
        "s.lstrip(\"*\")"
      ]
    },
    {
      "cell_type": "code",
      "execution_count": null,
      "metadata": {
        "colab": {
          "base_uri": "https://localhost:8080/",
          "height": 36
        },
        "id": "OtNF6KsGEFu3",
        "outputId": "d5825229-33ca-4f17-80e3-76561cb62211"
      },
      "outputs": [
        {
          "data": {
            "application/vnd.google.colaboratory.intrinsic+json": {
              "type": "string"
            },
            "text/plain": [
              "'**********HELLO'"
            ]
          },
          "execution_count": 24,
          "metadata": {},
          "output_type": "execute_result"
        }
      ],
      "source": [
        "s.rstrip(\"*\")"
      ]
    },
    {
      "cell_type": "code",
      "execution_count": null,
      "metadata": {
        "colab": {
          "base_uri": "https://localhost:8080/",
          "height": 36
        },
        "id": "pCB681ssEJxm",
        "outputId": "a160292f-e883-444c-8b02-41351f0a1a91"
      },
      "outputs": [
        {
          "data": {
            "application/vnd.google.colaboratory.intrinsic+json": {
              "type": "string"
            },
            "text/plain": [
              "'HELLO'"
            ]
          },
          "execution_count": 25,
          "metadata": {},
          "output_type": "execute_result"
        }
      ],
      "source": [
        "s.strip(\"*\")"
      ]
    },
    {
      "cell_type": "code",
      "execution_count": null,
      "metadata": {
        "colab": {
          "base_uri": "https://localhost:8080/",
          "height": 36
        },
        "id": "ZRssV6d-EPY2",
        "outputId": "52874998-d9e7-4ab9-b3c9-0bdcb51d1e3c"
      },
      "outputs": [
        {
          "data": {
            "application/vnd.google.colaboratory.intrinsic+json": {
              "type": "string"
            },
            "text/plain": [
              "'2000'"
            ]
          },
          "execution_count": 26,
          "metadata": {},
          "output_type": "execute_result"
        }
      ],
      "source": [
        "s1=\"2000rs\"\n",
        "s1[:-2]"
      ]
    },
    {
      "cell_type": "code",
      "execution_count": null,
      "metadata": {
        "colab": {
          "base_uri": "https://localhost:8080/",
          "height": 36
        },
        "id": "3zN9bcbhE0hl",
        "outputId": "a487292c-9d16-4e28-b005-cef20847053f"
      },
      "outputs": [
        {
          "data": {
            "application/vnd.google.colaboratory.intrinsic+json": {
              "type": "string"
            },
            "text/plain": [
              "'2000'"
            ]
          },
          "execution_count": 27,
          "metadata": {},
          "output_type": "execute_result"
        }
      ],
      "source": [
        "s1.strip(\"rs\")"
      ]
    },
    {
      "cell_type": "code",
      "execution_count": null,
      "metadata": {
        "colab": {
          "base_uri": "https://localhost:8080/"
        },
        "id": "aAl3ntiJE5WJ",
        "outputId": "f70da3dd-add5-4499-e197-4170bdbc6ca5"
      },
      "outputs": [
        {
          "name": "stdout",
          "output_type": "stream",
          "text": [
            "2000"
          ]
        }
      ],
      "source": [
        "s1='2000rs'\n",
        "for i in s1:\n",
        "  if i.isdigit():\n",
        "    print(i,end=\"\")"
      ]
    },
    {
      "cell_type": "markdown",
      "metadata": {
        "id": "-EINJ1PbFu2O"
      },
      "source": [
        "Python String partition() Method\n",
        "The partition() method splits the string at the first occurrence of the specified string separator sep argument and returns a tuple containing three elements, the part before the separator, the separator itself, and the part after the separator.\n",
        "\n",
        "If the matching separator is not found in the string then returns a tuple containing three elements, the string itself as a first element and two empty string elements.\n",
        "\n",
        "Syntax:\n",
        "str.partition(sep)"
      ]
    },
    {
      "cell_type": "code",
      "execution_count": null,
      "metadata": {
        "colab": {
          "base_uri": "https://localhost:8080/"
        },
        "id": "HkyULj89FXGh",
        "outputId": "2de5acdc-d16a-4a60-9a24-c3cf1a78c7b1"
      },
      "outputs": [
        {
          "name": "stdout",
          "output_type": "stream",
          "text": [
            "('Hello', ' ', 'World')\n"
          ]
        }
      ],
      "source": [
        "str1='Hello World'\n",
        "print(str1.partition(\" \"))"
      ]
    },
    {
      "cell_type": "code",
      "execution_count": null,
      "metadata": {
        "colab": {
          "base_uri": "https://localhost:8080/"
        },
        "id": "7E_wh9IiF8Nk",
        "outputId": "335fd108-e3ee-4435-fa8e-6a3f517a76b2"
      },
      "outputs": [
        {
          "name": "stdout",
          "output_type": "stream",
          "text": [
            "('How ', 'are', ' you?')\n"
          ]
        }
      ],
      "source": [
        "str1='How are you?'\n",
        "print(str1.partition(\"are\"))"
      ]
    },
    {
      "cell_type": "code",
      "execution_count": null,
      "metadata": {
        "colab": {
          "background_save": true
        },
        "id": "J_4EcU85GH7S",
        "outputId": "4dfcb901-d637-487a-ccf6-a48f98698dbc"
      },
      "outputs": [
        {
          "name": "stdout",
          "output_type": "stream",
          "text": [
            "('Tutorials is the best website.', '', '')\n",
            "('', 'Tutorials', ' is the best website.')\n"
          ]
        }
      ],
      "source": [
        "str1='Tutorials is the best website.'\n",
        "print(str1.partition(\"tutorials\"))\n",
        "print(str1.partition(\"utorials\"))"
      ]
    },
    {
      "cell_type": "code",
      "source": [
        "s1='Hi Shivajee. How are You?'\n",
        "print(s1[:s1.find('.')+1])\n",
        "print((s1[s1.find('.')+1:]).lstrip())"
      ],
      "metadata": {
        "colab": {
          "base_uri": "https://localhost:8080/"
        },
        "id": "4zrCd68-uHjU",
        "outputId": "1f4776e1-2151-4954-ad01-f75b1f104d63"
      },
      "execution_count": null,
      "outputs": [
        {
          "output_type": "stream",
          "name": "stdout",
          "text": [
            "Hi Shivajee.\n",
            "How are You?\n"
          ]
        }
      ]
    },
    {
      "cell_type": "code",
      "source": [
        "num=input(\"Enter your 10 digit mobile number: \")\n",
        "l=len(num)\n",
        "if num.isalnum():\n",
        "  if l==10 and (num[0]=='9' or num[0]=='6'):\n",
        "    print(\"Correct value.\")\n",
        "  else:\n",
        "    print(\"Invalid number.\")\n",
        "else:\n",
        "  print(\"Enter numbers only\")"
      ],
      "metadata": {
        "colab": {
          "base_uri": "https://localhost:8080/"
        },
        "id": "rSxsVdmuubDV",
        "outputId": "deed8385-7eab-4955-a753-be4ff164c68f"
      },
      "execution_count": null,
      "outputs": [
        {
          "output_type": "stream",
          "name": "stdout",
          "text": [
            "Enter your 10 digit mobile number: 9876543210\n",
            "Correct value.\n"
          ]
        }
      ]
    },
    {
      "cell_type": "code",
      "source": [
        "str1=input(\"Enter your username without any special character:\")\n",
        "if str1.isalnum():\n",
        "  print(\"Correct\")\n",
        "else:\n",
        "  print(\"Special characters are not allowed.\")\n",
        "print(\"You can use:\")\n",
        "for i in str1:\n",
        "  if i.isalnum():\n",
        "    print(i, end=\"\")"
      ],
      "metadata": {
        "id": "OBxRSg9UwtOi",
        "colab": {
          "base_uri": "https://localhost:8080/"
        },
        "outputId": "6b93413a-40bc-4fd1-a7b3-c8d4b8f2c658"
      },
      "execution_count": null,
      "outputs": [
        {
          "output_type": "stream",
          "name": "stdout",
          "text": [
            "Enter your username without any special character:1@a$2^jh\n",
            "Special characters are not allowed.\n",
            "You can use:\n",
            "1a2jh"
          ]
        }
      ]
    },
    {
      "cell_type": "code",
      "source": [
        "mystr=('happy '\n",
        "'monday '\n",
        "'everyone ')\n",
        "print(mystr)"
      ],
      "metadata": {
        "id": "MysB0NG41CEO",
        "colab": {
          "base_uri": "https://localhost:8080/"
        },
        "outputId": "e4c04327-5702-49eb-c205-70fe1ad7f689"
      },
      "execution_count": null,
      "outputs": [
        {
          "output_type": "stream",
          "name": "stdout",
          "text": [
            "happy monday everyone \n"
          ]
        }
      ]
    },
    {
      "cell_type": "code",
      "source": [
        "mystr2='woohoo '\n",
        "mystr2=mystr2*5\n",
        "mystr2"
      ],
      "metadata": {
        "colab": {
          "base_uri": "https://localhost:8080/",
          "height": 36
        },
        "id": "MLXQIiESDqTB",
        "outputId": "1c30a8c5-103f-4964-a721-06de915f36ba"
      },
      "execution_count": null,
      "outputs": [
        {
          "output_type": "execute_result",
          "data": {
            "text/plain": [
              "'woohoo woohoo woohoo woohoo woohoo '"
            ],
            "application/vnd.google.colaboratory.intrinsic+json": {
              "type": "string"
            }
          },
          "metadata": {},
          "execution_count": 41
        }
      ]
    },
    {
      "cell_type": "code",
      "source": [
        "print('hello'+' '+'world')"
      ],
      "metadata": {
        "colab": {
          "base_uri": "https://localhost:8080/"
        },
        "id": "T5pekzl3D5-R",
        "outputId": "1a66155b-00c1-431c-8d45-d635380bfca6"
      },
      "execution_count": null,
      "outputs": [
        {
          "output_type": "stream",
          "name": "stdout",
          "text": [
            "hello world\n"
          ]
        }
      ]
    },
    {
      "cell_type": "code",
      "source": [
        "s1='hello'\n",
        "s2='world'\n",
        "s3=s1+' '+s2\n",
        "print(s3)"
      ],
      "metadata": {
        "colab": {
          "base_uri": "https://localhost:8080/"
        },
        "id": "T-JUbLbEEfZE",
        "outputId": "4b524363-70e8-40e0-d4f0-1637ec68288a"
      },
      "execution_count": null,
      "outputs": [
        {
          "output_type": "stream",
          "name": "stdout",
          "text": [
            "hello world\n"
          ]
        }
      ]
    },
    {
      "cell_type": "code",
      "source": [
        "mystr='hello everyone'\n",
        "print('hello' in mystr)"
      ],
      "metadata": {
        "id": "_rykMflSEwLF",
        "colab": {
          "base_uri": "https://localhost:8080/"
        },
        "outputId": "d615b062-ae88-4dc9-c5f5-6bf509fe6c91"
      },
      "execution_count": null,
      "outputs": [
        {
          "output_type": "stream",
          "name": "stdout",
          "text": [
            "True\n"
          ]
        }
      ]
    },
    {
      "cell_type": "code",
      "source": [
        "print('everyOne' in mystr)"
      ],
      "metadata": {
        "colab": {
          "base_uri": "https://localhost:8080/"
        },
        "id": "apVlYB_XF4_e",
        "outputId": "a3c45447-a50e-4397-f1fd-852c0f7c6009"
      },
      "execution_count": null,
      "outputs": [
        {
          "output_type": "stream",
          "name": "stdout",
          "text": [
            "False\n"
          ]
        }
      ]
    },
    {
      "cell_type": "code",
      "source": [
        "mystr='hello world'\n",
        "mystr.replace('world', 'shivaji')"
      ],
      "metadata": {
        "colab": {
          "base_uri": "https://localhost:8080/",
          "height": 36
        },
        "id": "1DtRIVFTF_fo",
        "outputId": "7e661aa2-f864-4ceb-e1f6-723ec16c3a65"
      },
      "execution_count": null,
      "outputs": [
        {
          "output_type": "execute_result",
          "data": {
            "text/plain": [
              "'hello shivaji'"
            ],
            "application/vnd.google.colaboratory.intrinsic+json": {
              "type": "string"
            }
          },
          "metadata": {},
          "execution_count": 46
        }
      ]
    },
    {
      "cell_type": "code",
      "source": [
        "mystr='hello world world world'\n",
        "mystr.replace('world', 'shivaji')"
      ],
      "metadata": {
        "colab": {
          "base_uri": "https://localhost:8080/",
          "height": 36
        },
        "id": "8-xSkYoAGwpC",
        "outputId": "e555afb2-74b1-4e0c-e094-188ac06f8037"
      },
      "execution_count": null,
      "outputs": [
        {
          "output_type": "execute_result",
          "data": {
            "text/plain": [
              "'hello shivaji shivaji shivaji'"
            ],
            "application/vnd.google.colaboratory.intrinsic+json": {
              "type": "string"
            }
          },
          "metadata": {},
          "execution_count": 47
        }
      ]
    },
    {
      "cell_type": "code",
      "source": [
        "mystr='one two three one two two three'\n",
        "mystr.startswith('one')"
      ],
      "metadata": {
        "colab": {
          "base_uri": "https://localhost:8080/"
        },
        "id": "Z0vfw24QHBrx",
        "outputId": "2099bbd9-49c3-49c1-fb3e-bd97ed88ac57"
      },
      "execution_count": null,
      "outputs": [
        {
          "output_type": "execute_result",
          "data": {
            "text/plain": [
              "True"
            ]
          },
          "metadata": {},
          "execution_count": 48
        }
      ]
    },
    {
      "cell_type": "code",
      "source": [
        "item1=45\n",
        "item2=67\n",
        "item3=98\n",
        "print(\"Cost of item1 is {2} item2 is {1} item3 is {0}\".format(item1,item2,item3))"
      ],
      "metadata": {
        "colab": {
          "base_uri": "https://localhost:8080/"
        },
        "id": "9B-p7XbeHfiN",
        "outputId": "657bae1a-08b6-4647-8561-caa3c8753b97"
      },
      "execution_count": null,
      "outputs": [
        {
          "output_type": "stream",
          "name": "stdout",
          "text": [
            "Cost of item1 is 98 item2 is 67 item3 is 45\n"
          ]
        }
      ]
    },
    {
      "cell_type": "code",
      "source": [
        "item1=45\n",
        "item2=67\n",
        "item3=98\n",
        "print(\"Cost of item1 is {} item2 is {} item3 is {}\".format(item1,item2,item3))"
      ],
      "metadata": {
        "colab": {
          "base_uri": "https://localhost:8080/"
        },
        "id": "M0wz3f_TIR1p",
        "outputId": "d6c87b72-0edb-447b-d5c5-7e4188c33fc1"
      },
      "execution_count": null,
      "outputs": [
        {
          "output_type": "stream",
          "name": "stdout",
          "text": [
            "Cost of item1 is 45 item2 is 67 item3 is 98\n"
          ]
        }
      ]
    },
    {
      "cell_type": "code",
      "source": [
        "str2=\"WELCOME EVERYONE - \"\n",
        "print(str2*5)\n",
        "str2=str2.center(100)\n",
        "print(str2)"
      ],
      "metadata": {
        "colab": {
          "base_uri": "https://localhost:8080/"
        },
        "id": "whhGOFCyJBcy",
        "outputId": "8cb2e043-1076-4d3b-e937-e37936d8363e"
      },
      "execution_count": null,
      "outputs": [
        {
          "output_type": "stream",
          "name": "stdout",
          "text": [
            "WELCOME EVERYONE - WELCOME EVERYONE - WELCOME EVERYONE - WELCOME EVERYONE - WELCOME EVERYONE - \n",
            "                                        WELCOME EVERYONE -                                          \n"
          ]
        }
      ]
    },
    {
      "cell_type": "code",
      "source": [
        "str2=\"WELCOME EVERYONE - \"\n",
        "print(str2*5)\n",
        "str2=str2.rjust(50)\n",
        "print(str2)"
      ],
      "metadata": {
        "colab": {
          "base_uri": "https://localhost:8080/"
        },
        "id": "qmV6pwhxJ2F_",
        "outputId": "860eeaf5-1efa-4fe5-d61c-49b99db674b9"
      },
      "execution_count": null,
      "outputs": [
        {
          "output_type": "stream",
          "name": "stdout",
          "text": [
            "WELCOME EVERYONE - WELCOME EVERYONE - WELCOME EVERYONE - WELCOME EVERYONE - WELCOME EVERYONE - \n",
            "                               WELCOME EVERYONE - \n"
          ]
        }
      ]
    },
    {
      "cell_type": "code",
      "source": [
        "str2=\"WELCOME EVERYONE - \"\n",
        "print(str2*5)\n",
        "str2=str2.rjust(50,'*')\n",
        "print(str2)"
      ],
      "metadata": {
        "colab": {
          "base_uri": "https://localhost:8080/"
        },
        "id": "Cs7vwNE6KfjM",
        "outputId": "bbc7fd24-9da7-48d5-daa6-56c66c1028d6"
      },
      "execution_count": null,
      "outputs": [
        {
          "output_type": "stream",
          "name": "stdout",
          "text": [
            "WELCOME EVERYONE - WELCOME EVERYONE - WELCOME EVERYONE - WELCOME EVERYONE - WELCOME EVERYONE - \n",
            "*******************************WELCOME EVERYONE - \n"
          ]
        }
      ]
    },
    {
      "cell_type": "code",
      "source": [
        "mystr6='123456789'\n",
        "print(mystr6.isalpha())\n",
        "print(mystr6.isalnum())\n",
        "print(mystr6.isdecimal())\n",
        "print(mystr6.isnumeric())"
      ],
      "metadata": {
        "colab": {
          "base_uri": "https://localhost:8080/"
        },
        "id": "4dynhSV-LAUk",
        "outputId": "798e2e42-64ff-4469-e3f3-51d41f762e3f"
      },
      "execution_count": null,
      "outputs": [
        {
          "output_type": "stream",
          "name": "stdout",
          "text": [
            "False\n",
            "True\n",
            "True\n",
            "True\n"
          ]
        }
      ]
    },
    {
      "cell_type": "code",
      "source": [
        "str6='as sa as ds sa as fd hg as'\n",
        "l=str6.rfind('as')"
      ],
      "metadata": {
        "id": "Fpf4lRBLLsOo"
      },
      "execution_count": null,
      "outputs": []
    },
    {
      "cell_type": "code",
      "source": [
        "print(l)"
      ],
      "metadata": {
        "colab": {
          "base_uri": "https://localhost:8080/"
        },
        "id": "_8YQSEstM160",
        "outputId": "812d2984-a7e3-4ae0-87eb-e5bb10ad3ca8"
      },
      "execution_count": null,
      "outputs": [
        {
          "output_type": "stream",
          "name": "stdout",
          "text": [
            "24\n"
          ]
        }
      ]
    },
    {
      "cell_type": "code",
      "source": [
        "l=str6.rindex('as')"
      ],
      "metadata": {
        "id": "Z9Ieq9N3M4ZE"
      },
      "execution_count": null,
      "outputs": []
    },
    {
      "cell_type": "code",
      "source": [
        "print(l)"
      ],
      "metadata": {
        "id": "0FkUJPoVM9UR",
        "outputId": "2551ab20-128a-4589-a57e-eae2b75f3e3f",
        "colab": {
          "base_uri": "https://localhost:8080/"
        }
      },
      "execution_count": null,
      "outputs": [
        {
          "output_type": "stream",
          "name": "stdout",
          "text": [
            "24\n"
          ]
        }
      ]
    },
    {
      "cell_type": "code",
      "source": [],
      "metadata": {
        "id": "AWIOliD1M_dl"
      },
      "execution_count": null,
      "outputs": []
    }
  ],
  "metadata": {
    "colab": {
      "provenance": [],
      "authorship_tag": "ABX9TyOhY67vL2s4bHXehS3WxXOF",
      "include_colab_link": true
    },
    "kernelspec": {
      "display_name": "Python 3",
      "name": "python3"
    },
    "language_info": {
      "name": "python"
    }
  },
  "nbformat": 4,
  "nbformat_minor": 0
}